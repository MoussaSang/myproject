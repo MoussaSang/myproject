{
 "cells": [
  {
   "cell_type": "code",
   "execution_count": 1,
   "id": "330ef951-fbe2-4e0b-b753-29012d8a9d51",
   "metadata": {
    "tags": []
   },
   "outputs": [],
   "source": [
    "library(susieR)"
   ]
  },
  {
   "cell_type": "code",
   "execution_count": null,
   "id": "e2c09955-36ef-4a9e-a967-10c425b0f283",
   "metadata": {},
   "outputs": [],
   "source": []
  }
 ],
 "metadata": {
  "kernelspec": {
   "display_name": "R",
   "language": "R",
   "name": "ir"
  },
  "language_info": {
   "codemirror_mode": "r",
   "file_extension": ".r",
   "mimetype": "text/x-r-source",
   "name": "R",
   "pygments_lexer": "r",
   "version": "4.3.1"
  }
 },
 "nbformat": 4,
 "nbformat_minor": 5
}
