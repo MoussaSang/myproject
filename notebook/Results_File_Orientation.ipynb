{
 "cells": [
  {
   "cell_type": "code",
   "execution_count": 28,
   "id": "d884ae3f-cb2e-4f74-8183-9034b148da5f",
   "metadata": {
    "kernel": "Bash",
    "tags": []
   },
   "outputs": [
    {
     "name": "stdout",
     "output_type": "stream",
     "text": [
      "(pisces-rabbit) \n"
     ]
    },
    {
     "ename": "",
     "evalue": "1",
     "output_type": "error",
     "traceback": []
    }
   ],
   "source": [
    "micromamba activate pisces-rabbit"
   ]
  },
  {
   "cell_type": "code",
   "execution_count": 3,
   "id": "8a80cdd4-d80d-4ab1-b662-da5cf6047544",
   "metadata": {
    "kernel": "Bash",
    "tags": []
   },
   "outputs": [
    {
     "name": "stdout",
     "output_type": "stream",
     "text": [
      "INFO: Running \u001b[32mprint_n\u001b[0m: Print the value of n with bash\n",
      "1.0\n",
      "INFO: \u001b[32mprint_n\u001b[0m is \u001b[32mcompleted\u001b[0m.\n",
      "INFO: Workflow print_n (ID=w4bcbb8958466f710) is executed successfully with 1 completed step.\n",
      "(pisces-rabbit) \n"
     ]
    },
    {
     "ename": "",
     "evalue": "1",
     "output_type": "error",
     "traceback": []
    }
   ],
   "source": [
    "sos run orientation.ipynb print_n"
   ]
  },
  {
   "cell_type": "code",
   "execution_count": null,
   "id": "ed007fa9-6fe1-46ba-b18d-d65ed5acfff7",
   "metadata": {
    "tags": []
   },
   "outputs": [
    {
     "name": "stdout",
     "output_type": "stream",
     "text": [
      "INFO: Running \u001b[32mfastGWA_1\u001b[0m: fastGWA mixed model (based on the sparse GRM generated above)\n",
      "INFO: Running \u001b[32mgcta_1\u001b[0m: Partition the GRM into 100 parts and allocate 8GB memory to each job\n"
     ]
    }
   ],
   "source": [
    "sos run LMM.ipynb fastGWA \\\n",
    "    --cwd output \\\n",
    "    --bfile data/LMM_MWE/genotypes.bed \\\n",
    "    --sampleFile data/LMM_MWE/imputed_genotypes.sample \\\n",
    "    --genoFile data/LMM_MWE/imputed_genotypes_chr*.bgen \\\n",
    "    --phenoFile data/LMM_MWE/phenotypes.txt \\\n",
    "    --formatFile data/LMM_MWE/fastGWA_template.yml \\\n",
    "    --phenoCol BMI \\\n",
    "    --covarCol SEX \\\n",
    "    --qCovarCol AGE \\\n",
    "    --numThreads 1 \\\n",
    "    --bgenMinMAF 0.001 \\\n",
    "    --bgenMinINFO 0.1 \\\n",
    "    --parts 2 \\\n",
    "    --p-filter 1"
   ]
  },
  {
   "cell_type": "code",
   "execution_count": 4,
   "id": "3ec477db-f4cf-4a65-8ebd-7f2281f4409c",
   "metadata": {
    "kernel": "Bash",
    "tags": []
   },
   "outputs": [
    {
     "name": "stdout",
     "output_type": "stream",
     "text": [
      "INFO: Running \u001b[32mprint_n\u001b[0m: Print the value of n with bash\n",
      "999.0\n",
      "INFO: \u001b[32mprint_n\u001b[0m is \u001b[32mcompleted\u001b[0m.\n",
      "INFO: Workflow print_n (ID=w141f00df6c6697d6) is executed successfully with 1 completed step.\n",
      "(pisces-rabbit) \n"
     ]
    },
    {
     "ename": "",
     "evalue": "1",
     "output_type": "error",
     "traceback": []
    }
   ],
   "source": [
    "sos run orientation.ipynb print_n --n 999"
   ]
  },
  {
   "cell_type": "code",
   "execution_count": 5,
   "id": "b10d42ae-60ed-4802-8d02-45fe8e482d32",
   "metadata": {
    "kernel": "Bash",
    "tags": []
   },
   "outputs": [
    {
     "name": "stdout",
     "output_type": "stream",
     "text": [
      "INFO: Running \u001b[32mprint_beta\u001b[0m: Print the value of beta with bash\n",
      "[1.0, 2.0, 3.0]\n",
      "INFO: \u001b[32mprint_beta\u001b[0m is \u001b[32mcompleted\u001b[0m.\n",
      "INFO: Workflow print_beta (ID=w78fa93e094c77376) is executed successfully with 1 completed step.\n",
      "(pisces-rabbit) \n"
     ]
    },
    {
     "ename": "",
     "evalue": "1",
     "output_type": "error",
     "traceback": []
    }
   ],
   "source": [
    "sos run orientation.ipynb print_beta"
   ]
  },
  {
   "cell_type": "code",
   "execution_count": 6,
   "id": "23d499af-d0a4-428f-b256-2b6a2f4f7f83",
   "metadata": {
    "kernel": "Bash",
    "tags": []
   },
   "outputs": [
    {
     "name": "stdout",
     "output_type": "stream",
     "text": [
      "INFO: Running \u001b[32mexp_n\u001b[0m: Print exp(n) with R\n",
      "[1] 2.718282\n",
      "INFO: \u001b[32mexp_n\u001b[0m is \u001b[32mcompleted\u001b[0m.\n",
      "INFO: Workflow exp_n (ID=w68dec66676a24f9f) is executed successfully with 1 completed step.\n",
      "(pisces-rabbit) \n"
     ]
    },
    {
     "ename": "",
     "evalue": "1",
     "output_type": "error",
     "traceback": []
    }
   ],
   "source": [
    "sos run orientation.ipynb exp_n"
   ]
  },
  {
   "cell_type": "code",
   "execution_count": 7,
   "id": "55c194e5-616f-4ccb-abbe-dfa5e8b20c03",
   "metadata": {
    "kernel": "Bash",
    "tags": []
   },
   "outputs": [
    {
     "name": "stdout",
     "output_type": "stream",
     "text": [
      "usage: sos run orientation.ipynb [workflow_name | -t targets] [options] [workflow_options]\n",
      "  workflow_name:        Single or combined workflows defined in this script\n",
      "  targets:              One or more targets to generate\n",
      "  options:              Single-hyphen sos parameters (see \"sos run -h\" for details)\n",
      "  workflow_options:     Double-hyphen workflow-specific parameters\n",
      "\n",
      "Workflows:\n",
      "  print_n\n",
      "  print_beta\n",
      "  log_beta\n",
      "  exp_n\n",
      "\n",
      "Global Workflow Options:\n",
      "  --n 1.0 (as float)\n",
      "                        parameter 1\n",
      "  --beta 1.0 2.0 3.0 (as list)\n",
      "                        parameter 2\n",
      "\n",
      "Sections\n",
      "  print_n:              Print the value of n with bash\n",
      "  print_beta:           Print the value of beta with bash\n",
      "  log_beta:             Print log(beta) with Python\n",
      "  exp_n:                Print exp(n) with R\n",
      "(pisces-rabbit) \n"
     ]
    },
    {
     "ename": "",
     "evalue": "1",
     "output_type": "error",
     "traceback": []
    }
   ],
   "source": [
    "sos run orientation.ipynb -h"
   ]
  },
  {
   "cell_type": "code",
   "execution_count": 4,
   "id": "c008afc6-500b-4609-a337-6f5ab9b15b31",
   "metadata": {
    "tags": []
   },
   "outputs": [
    {
     "name": "stdout",
     "output_type": "stream",
     "text": [
      "bash: fg: %cd: no such job\n"
     ]
    },
    {
     "ename": "",
     "evalue": "1",
     "output_type": "error",
     "traceback": []
    }
   ],
   "source": [
    "%cd .."
   ]
  },
  {
   "cell_type": "code",
   "execution_count": 5,
   "id": "5f5169f8-7b1b-401f-8243-1b063cf3d892",
   "metadata": {
    "kernel": "Bash",
    "tags": []
   },
   "outputs": [
    {
     "name": "stdout",
     "output_type": "stream",
     "text": [
      "boltlmm_template.yml           imputed_genotypes_chr21.bgen\n",
      "fastGWA_template.yml           imputed_genotypes_chr21.bgen.bgi\n",
      "\u001b[0m\u001b[01;32mgenetic_map_hg19_withX.txt.gz\u001b[0m  imputed_genotypes_chr22.bgen\n",
      "genotype_inventory.txt         imputed_genotypes_chr22.bgen.bgi\n",
      "genotypes21_22.bed             imputed_genotypes.sample\n",
      "genotypes21_22.bim             \u001b[01;32mLDSCORE.1000G_EUR.tab.gz\u001b[0m\n",
      "genotypes21_22.fam             phenotypes.txt\n",
      "genotypes.bed                  regenie_template.yml\n",
      "genotypes.bim                  regions.txt\n",
      "genotypes.fam                  unrelated_samples.txt\n",
      "(pisces-rabbit) \n"
     ]
    },
    {
     "ename": "",
     "evalue": "1",
     "output_type": "error",
     "traceback": []
    }
   ],
   "source": [
    "ls data/LMM_MWE"
   ]
  },
  {
   "cell_type": "code",
   "execution_count": 7,
   "id": "cbace5da-f4e6-4c45-ae4f-d9ccb63f5028",
   "metadata": {
    "tags": []
   },
   "outputs": [
    {
     "name": "stdout",
     "output_type": "stream",
     "text": [
      "(pisces-rabbit) \n"
     ]
    },
    {
     "ename": "",
     "evalue": "1",
     "output_type": "error",
     "traceback": []
    }
   ],
   "source": [
    "micromamba activate pisces-rabbit\n"
   ]
  },
  {
   "cell_type": "code",
   "execution_count": 3,
   "id": "6dd0444d-d4e2-4579-bb41-c5bb6840d822",
   "metadata": {
    "tags": []
   },
   "outputs": [
    {
     "name": "stdout",
     "output_type": "stream",
     "text": [
      "/home/h3africa/orientation/notebook\n",
      "(pisces-rabbit) \n"
     ]
    },
    {
     "ename": "",
     "evalue": "1",
     "output_type": "error",
     "traceback": []
    }
   ],
   "source": [
    "pwd"
   ]
  },
  {
   "cell_type": "code",
   "execution_count": 4,
   "id": "a4ed44e9-3d87-4df9-afaa-708019028613",
   "metadata": {
    "tags": []
   },
   "outputs": [
    {
     "name": "stdout",
     "output_type": "stream",
     "text": [
      "(pisces-rabbit) \n"
     ]
    },
    {
     "ename": "",
     "evalue": "1",
     "output_type": "error",
     "traceback": []
    }
   ],
   "source": [
    "cd ../"
   ]
  },
  {
   "cell_type": "code",
   "execution_count": 6,
   "id": "f6545cad-5003-4a90-abbe-179ddcd0df4b",
   "metadata": {
    "tags": []
   },
   "outputs": [
    {
     "name": "stdout",
     "output_type": "stream",
     "text": [
      "/home/h3africa/orientation\n",
      "(pisces-rabbit) \n"
     ]
    },
    {
     "ename": "",
     "evalue": "1",
     "output_type": "error",
     "traceback": []
    }
   ],
   "source": [
    "pwd"
   ]
  },
  {
   "cell_type": "code",
   "execution_count": 7,
   "id": "c9e233e5-694e-4480-8965-f4d949bc31d2",
   "metadata": {
    "kernel": "Bash",
    "tags": []
   },
   "outputs": [
    {
     "name": "stdout",
     "output_type": "stream",
     "text": [
      "usage: sos run workflow/LMM.ipynb [workflow_name | -t targets] [options] [workflow_options]\n",
      "  workflow_name:        Single or combined workflows defined in this script\n",
      "  targets:              One or more targets to generate\n",
      "  options:              Single-hyphen sos parameters (see \"sos run -h\" for details)\n",
      "  workflow_options:     Double-hyphen workflow-specific parameters\n",
      "\n",
      "Workflows:\n",
      "  boltlmm\n",
      "  gcta\n",
      "  fastGWA\n",
      "  regenie\n",
      "  SAIGE\n",
      "\n",
      "Global Workflow Options:\n",
      "  --cwd VAL (as path, required)\n",
      "                        the output directory for generated files\n",
      "  --sampleFile VAL (as path, required)\n",
      "                        Path to sample file\n",
      "  --bfile VAL (as path, required)\n",
      "                        Genotype files in plink binary this is used for\n",
      "                        computing the GRM\n",
      "  --genoFile  paths\n",
      "\n",
      "                        Path to bgen or bed files\n",
      "  --phenoFile VAL (as path, required)\n",
      "                        Phenotype file for quantitative trait (BMI)\n",
      "  --phenoCol VAL VAL ... (as type, required)\n",
      "                        Phenotype to be analyzed (specify the column)\n",
      "  --covarFile . (as path)\n",
      "                        Covariate file path. Will use phenoFile if empty\n",
      "  --formatFile . (as path)\n",
      "                        Summary statisticss format file path used for unifying\n",
      "                        output column names. Will not unify names if empty\n",
      "  --covarCol  (as list)\n",
      "                        Qualitative covariates to be used in the analysis\n",
      "  --qCovarCol  (as list)\n",
      "                        Quantitative covariates to be used in the analysis\n",
      "  --numThreads 2 (as int)\n",
      "                        Specific number of threads to use\n",
      "  --bgenMinMAF 0.001 (as float)\n",
      "                        Minimum MAF to be used\n",
      "  --bgenMinINFO 0.8 (as float)\n",
      "                        Mimimum info score to be used\n",
      "  --job-size 1 (as int)\n",
      "                        For cluster jobs, number commands to run per job\n",
      "  --container-lmm 'statisticalgenetics/lmm:1.6'\n",
      "                        The container with the lmm software. Can be either a\n",
      "                        dockerhub image or a singularity `sif` file. Default is\n",
      "                        set to using dockerhub image\n",
      "  --container-marp 'gaow/marp'\n",
      "\n",
      "Sections\n",
      "  boltlmm_1:            Run BOLT analysis\n",
      "    Workflow Options:\n",
      "      --covarMaxLevels VAL (as int, required)\n",
      "                        Maximum categories of covariates allowed\n",
      "      --LDscoresFile VAL (as path, required)\n",
      "                        Path to LDscore file for reference population\n",
      "      --geneticMapFile VAL (as path, required)\n",
      "                        Path to genetic map file used to interpolate genetic map\n",
      "                        coordinates from SNP physical (base pair) positions\n",
      "      --lmm-option lmm\n",
      "                        LMM option: lmm, lmmInfOnly, and lmmForceNonInf\n",
      "  gcta_1:               Partition the GRM into 100 parts and allocate 8GB memory\n",
      "                        to each job\n",
      "    Workflow Options:\n",
      "      --parts 100 (as int)\n",
      "                        Number of parts the GRM calculation is to be partitioned\n",
      "  gcta_2:               Merge all the parts together (Linux, Mac)\n",
      "  gcta_3:               Make a sparse GRM from the merged full-dense GRM\n",
      "  fastGWA_1:            fastGWA mixed model (based on the sparse GRM generated\n",
      "                        above)\n",
      "    Workflow Options:\n",
      "      --grmFile  path(f'{cwd}/{bfile:bn}.grm.sp')\n",
      "\n",
      "  regenie_0:            Select the SNPs and samples to be used based on maf,\n",
      "                        geno, hwe and mind options\n",
      "    Workflow Options:\n",
      "      --maf-filter 0.0 (as float)\n",
      "      --geno-filter 0.0 (as float)\n",
      "      --hwe-filter 0.0 (as float)\n",
      "      --mind-filter 0.0 (as float)\n",
      "  regenie_1:            Run REGENIE step 1: fitting the null\n",
      "    Workflow Options:\n",
      "      --bsize 400 (as int)\n",
      "                        Size of the genotype blocks to be used\n",
      "      --lowmem-prefix  cwd\n",
      "\n",
      "                        Path to temporarily store block predictions\n",
      "      --trait bt\n",
      "                        Specify that traits are binary with\n",
      "                        0=control,1=case,NA=missing (default is quantitative)\n",
      "  regenie_2:            Run REGENIE step 2: association analysis\n",
      "    Workflow Options:\n",
      "      --bsize 400 (as int)\n",
      "                        Size of the genotype blocks to be used\n",
      "      --minMAC VAL (as int, required)\n",
      "                        Mimimum allele count to be used\n",
      "      --trait bt\n",
      "  SAIGE_1:              Fit SAIGE null model\n",
      "    Workflow Options:\n",
      "      --trait-type VAL (as str, required)\n",
      "                        trait type, eg 'binary' or 'quantitative'\n",
      "      --loco TRUE\n",
      "                        Whether to use LOCO or not\n",
      "      --sampleCol IID\n",
      "                        Name of the sample column\n",
      "      --script-path /home/h3africa/software/bin/step1_fitNULLGLMM.R (as path)\n",
      "                        Path specific to SAIGE script\n",
      "      --invNormalize FALSE\n",
      "                        Inverse normalization only for non-normal quantitative\n",
      "                        traits\n",
      "  SAIGE_2:              Compute SAIGE statistics\n",
      "    Workflow Options:\n",
      "      --bgenMinMAC 4 (as int)\n",
      "                        Mimimum allele count to be used\n",
      "      --af-caco TRUE\n",
      "                        Specify whether to output allele frequencies in cases\n",
      "                        and controls\n",
      "      --script-path /home/h3africa/software/bin/step2_SPAtests.R (as path)\n",
      "                        Path specific to SAIGE script\n",
      "  boltlmm_2, fastGWA_2, SAIGE_3, regenie_3: Merge results and log files\n",
      "    Workflow Options:\n",
      "      --[no-]reverse-log-p (default to False)\n",
      "  boltlmm_3, fastGWA_3, SAIGE_4, regenie_4: Manhattan and QQ plots using `qqman`\n",
      "    Workflow Options:\n",
      "      --bp POS\n",
      "                        Column name for BP\n",
      "      --pval P\n",
      "                        Column name for p-value\n",
      "      --snp SNP\n",
      "                        Column name for SNP\n",
      "      --p-filter '0.05'\n",
      "                        Plot only on p-values smaller than this\n",
      "      --ylim 0 (as int)\n",
      "                        ylim set to 0 to use maximum -log10(p) in data\n",
      "  boltlmm_4, fastGWA_4, SAIGE_5, regenie_5: Generate analysis report: HTML file,\n",
      "                        and optionally PPTX file\n",
      "(pisces-rabbit) \n"
     ]
    },
    {
     "ename": "",
     "evalue": "1",
     "output_type": "error",
     "traceback": []
    }
   ],
   "source": [
    "sos run workflow/LMM.ipynb -h"
   ]
  },
  {
   "cell_type": "code",
   "execution_count": 2,
   "id": "e2c2b503-7b01-4358-b9e6-0bf4fcb29426",
   "metadata": {
    "kernel": "Bash",
    "tags": []
   },
   "outputs": [
    {
     "name": "stdout",
     "output_type": "stream",
     "text": [
      "ls: cannot access 'data/LMM_MWE': No such file or directory\n",
      "(pisces-rabbit) \n"
     ]
    },
    {
     "ename": "",
     "evalue": "1",
     "output_type": "error",
     "traceback": []
    }
   ],
   "source": [
    "ls data/LMM_MWE"
   ]
  },
  {
   "cell_type": "code",
   "execution_count": 5,
   "id": "309796a6-f8cc-4819-91ef-ad9087d27b6a",
   "metadata": {
    "tags": []
   },
   "outputs": [
    {
     "name": "stdout",
     "output_type": "stream",
     "text": [
      "/home/h3africa/orientation\n",
      "(pisces-rabbit) \n"
     ]
    },
    {
     "ename": "",
     "evalue": "1",
     "output_type": "error",
     "traceback": []
    }
   ],
   "source": [
    "pwd"
   ]
  },
  {
   "cell_type": "code",
   "execution_count": 4,
   "id": "45290c8d-269f-4d9b-9b30-22f1f637fd4a",
   "metadata": {
    "tags": []
   },
   "outputs": [
    {
     "name": "stdout",
     "output_type": "stream",
     "text": [
      "(pisces-rabbit) \n"
     ]
    },
    {
     "ename": "",
     "evalue": "1",
     "output_type": "error",
     "traceback": []
    }
   ],
   "source": [
    "cd .."
   ]
  },
  {
   "cell_type": "code",
   "execution_count": 8,
   "id": "695aff0d-0168-4e50-a70b-49a7604142d0",
   "metadata": {
    "kernel": "Bash",
    "tags": []
   },
   "outputs": [
    {
     "name": "stdout",
     "output_type": "stream",
     "text": [
      "INFO: Running \u001b[32mfastGWA_1\u001b[0m: fastGWA mixed model (based on the sparse GRM generated above)\n",
      "INFO: \u001b[32mfastGWA_1\u001b[0m (index=0) is \u001b[32mignored\u001b[0m due to saved signature\n",
      "INFO: \u001b[32mfastGWA_1\u001b[0m (index=1) is \u001b[32mignored\u001b[0m due to saved signature\n",
      "INFO: \u001b[32mfastGWA_1\u001b[0m output:   \u001b[32moutput/cache/imputed_genotypes_chr21.phenotypes.fastGWA.gz output/cache/imputed_genotypes_chr22.phenotypes.fastGWA.gz in 2 groups\u001b[0m\n",
      "INFO: Running \u001b[32mfastGWA_2\u001b[0m: Merge results and log files\n",
      "INFO: \u001b[32mfastGWA_2\u001b[0m (index=0) is \u001b[32mignored\u001b[0m due to saved signature\n",
      "INFO: \u001b[32mfastGWA_2\u001b[0m output:   \u001b[32moutput/phenotypes_BMI.fastGWA.snp_stats.gz output/phenotypes_BMI.fastGWA.snp_counts.txt\u001b[0m\n",
      "INFO: Running \u001b[32mfastGWA_3\u001b[0m: Manhattan and QQ plots using `qqman`\n",
      "INFO: \u001b[32mfastGWA_3\u001b[0m (index=0) is \u001b[32mignored\u001b[0m due to saved signature\n",
      "INFO: \u001b[32mfastGWA_3\u001b[0m output:   \u001b[32moutput/phenotypes_BMI.fastGWA.manhattan.png output/phenotypes_BMI.fastGWA.qq.png... (5 items)\u001b[0m\n",
      "INFO: Running \u001b[32mfastGWA_4\u001b[0m: Generate analysis report: HTML file, and optionally PPTX file\n",
      "INFO: \u001b[32mfastGWA_4\u001b[0m (index=0) is \u001b[32mignored\u001b[0m due to saved signature\n",
      "INFO: \u001b[32mfastGWA_4\u001b[0m output:   \u001b[32moutput/phenotypes_BMI.fastGWA.analysis_summary.html\u001b[0m\n",
      "INFO: Workflow fastGWA (ID=w0126b83c21c25019) is ignored with 4 ignored steps and 5 ignored substeps.\n",
      "(pisces-rabbit) \n"
     ]
    },
    {
     "ename": "",
     "evalue": "1",
     "output_type": "error",
     "traceback": []
    }
   ],
   "source": [
    "sos run workflow/LMM.ipynb fastGWA \\\n",
    "    --cwd output \\\n",
    "    --bfile data/LMM_MWE/genotypes.bed \\\n",
    "    --sampleFile data/LMM_MWE/imputed_genotypes.sample \\\n",
    "    --genoFile data/LMM_MWE/imputed_genotypes_chr*.bgen \\\n",
    "    --phenoFile data/LMM_MWE/phenotypes.txt \\\n",
    "    --formatFile data/LMM_MWE/fastGWA_template.yml \\\n",
    "    --phenoCol BMI \\\n",
    "    --covarCol SEX \\\n",
    "    --qCovarCol AGE \\\n",
    "    --numThreads 1 \\\n",
    "    --bgenMinMAF 0.001 \\\n",
    "    --bgenMinINFO 0.1 \\\n",
    "    --parts 2 \\\n",
    "    --p-filter 1"
   ]
  },
  {
   "cell_type": "code",
   "execution_count": null,
   "id": "bb7f89a1-95f1-4f60-8ae4-786e81731892",
   "metadata": {
    "kernel": "Bash",
    "tags": []
   },
   "outputs": [
    {
     "name": "stdout",
     "output_type": "stream",
     "text": [
      "INFO: Running \u001b[32mfastGWA_1\u001b[0m: fastGWA mixed model (based on the sparse GRM generated above)\n",
      "INFO: Running \u001b[32mgcta_1\u001b[0m: Partition the GRM into 100 parts and allocate 8GB memory to each job\n"
     ]
    }
   ],
   "source": [
    "sos run LMM.ipynb fastGWA \\\n",
    "    --cwd output \\\n",
    "    --bfile data/LMM_MWE/genotypes.bed \\\n",
    "    --sampleFile data/LMM_MWE/imputed_genotypes.sample \\\n",
    "    --genoFile data/LMM_MWE/imputed_genotypes_chr*.bgen \\\n",
    "    --phenoFile data/LMM_MWE/phenotypes.txt \\\n",
    "    --formatFile data/LMM_MWE/fastGWA_template.yml \\\n",
    "    --phenoCol BMI \\\n",
    "    --covarCol SEX \\\n",
    "    --qCovarCol AGE \\\n",
    "    --numThreads 1 \\\n",
    "    --bgenMinMAF 0.001 \\\n",
    "    --bgenMinINFO 0.1 \\\n",
    "    --parts 2 \\\n",
    "    --p-filter 1"
   ]
  },
  {
   "cell_type": "code",
   "execution_count": 10,
   "id": "a5472406-dd86-481b-823a-95d516ebe608",
   "metadata": {
    "tags": []
   },
   "outputs": [
    {
     "name": "stdout",
     "output_type": "stream",
     "text": [
      "(pisces-rabbit) \n"
     ]
    },
    {
     "ename": "",
     "evalue": "1",
     "output_type": "error",
     "traceback": []
    }
   ],
   "source": [
    "cd workflow"
   ]
  },
  {
   "cell_type": "code",
   "execution_count": 3,
   "id": "bd60c35a-3669-46f8-878d-83c19b466191",
   "metadata": {},
   "outputs": [
    {
     "name": "stdout",
     "output_type": "stream",
     "text": [
      "/home/h3africa/orientation/workflow\n"
     ]
    }
   ],
   "source": [
    "pwd"
   ]
  },
  {
   "cell_type": "code",
   "execution_count": 2,
   "id": "c4356d4c-bd30-408f-8988-b7203ba64521",
   "metadata": {
    "tags": []
   },
   "outputs": [],
   "source": [
    "cd ../workflow"
   ]
  },
  {
   "cell_type": "code",
   "execution_count": 11,
   "id": "07569f49-b1aa-487c-a411-f426f2800ec0",
   "metadata": {},
   "outputs": [
    {
     "name": "stdout",
     "output_type": "stream",
     "text": [
      "bash: fg: %preview: no such job\n"
     ]
    },
    {
     "ename": "",
     "evalue": "1",
     "output_type": "error",
     "traceback": []
    }
   ],
   "source": [
    "%preview output/phenotypes_BMI.fastGWA.manhattan.png"
   ]
  },
  {
   "cell_type": "code",
   "execution_count": 19,
   "id": "b6796262-c447-4ff1-9c0d-6946064972f2",
   "metadata": {
    "tags": []
   },
   "outputs": [],
   "source": [
    "cd ../"
   ]
  },
  {
   "cell_type": "code",
   "execution_count": 22,
   "id": "d1cb2202-0b63-42be-9692-dc136eb83443",
   "metadata": {
    "tags": []
   },
   "outputs": [
    {
     "name": "stdout",
     "output_type": "stream",
     "text": [
      "/home/h3africa/orientation/workflow\n"
     ]
    }
   ],
   "source": [
    "pwd"
   ]
  },
  {
   "cell_type": "code",
   "execution_count": 20,
   "id": "9ac25f5f-66b3-42f3-b9c1-6870a3a18684",
   "metadata": {
    "tags": []
   },
   "outputs": [],
   "source": [
    "cd workflow"
   ]
  },
  {
   "cell_type": "code",
   "execution_count": 18,
   "id": "2a5c8bd7-dcb0-4a6c-a960-f50ad11e5bd9",
   "metadata": {
    "tags": []
   },
   "outputs": [
    {
     "name": "stdout",
     "output_type": "stream",
     "text": [
      "bash: fg: %preview: no such job\n"
     ]
    },
    {
     "ename": "",
     "evalue": "1",
     "output_type": "error",
     "traceback": []
    }
   ],
   "source": [
    "%preview output/phenotypes_BMI.fastGWA.manhattan.png"
   ]
  },
  {
   "cell_type": "code",
   "execution_count": 23,
   "id": "5ebb6dcc-5e95-4e57-9667-cb1ddfe78d28",
   "metadata": {
    "tags": []
   },
   "outputs": [
    {
     "name": "stdout",
     "output_type": "stream",
     "text": [
      "/home/h3africa/orientation/workflow\n"
     ]
    }
   ],
   "source": [
    "pwd"
   ]
  },
  {
   "cell_type": "code",
   "execution_count": 29,
   "id": "e61765ab-f3c1-41c1-b9e7-6d3dc3957e1a",
   "metadata": {
    "tags": []
   },
   "outputs": [
    {
     "name": "stdout",
     "output_type": "stream",
     "text": [
      "INFO: Running \u001b[32mboltlmm_1\u001b[0m: Run BOLT analysis\n",
      "KeyboardInterrupt\n",
      "(pisces-rabbit) \n"
     ]
    }
   ],
   "source": [
    "sos run LMM.ipynb boltlmm \\\n",
    "    --cwd output \\\n",
    "    --bfile data/genotypes.bed \\\n",
    "    --sampleFile data/imputed_genotypes.sample \\\n",
    "    --genoFile data/imputed_genotypes_chr*.bgen \\\n",
    "    --phenoFile data/phenotypes.txt \\\n",
    "    --formatFile data/boltlmm_template.yml \\\n",
    "    --LDscoresFile data/LDSCORE.1000G_EUR.tab.gz \\\n",
    "    --geneticMapFile data/genetic_map_hg19_withX.txt.gz \\\n",
    "    --phenoCol BMI \\\n",
    "    --covarCol SEX \\\n",
    "    --covarMaxLevels 10 \\\n",
    "    --qCovarCol AGE \\\n",
    "    --numThreads 5 \\\n",
    "    --bgenMinMAF 0.001 \\\n",
    "    --bgenMinINFO 0.1 \\\n",
    "    --lmm-option none \\\n",
    "    --p-filter 1 \\\n",
    "    $JOB_OPT"
   ]
  },
  {
   "cell_type": "code",
   "execution_count": null,
   "id": "44ff3f06-f6e7-40f3-bdd0-06fa4924eaff",
   "metadata": {
    "tags": []
   },
   "outputs": [],
   "source": [
    "%preview output/phenotypes_BMI.boltlmm.snp_stats.gz"
   ]
  },
  {
   "cell_type": "code",
   "execution_count": 1,
   "id": "4a59acc6-7289-450f-a606-987344e9080f",
   "metadata": {
    "tags": []
   },
   "outputs": [
    {
     "name": "stdout",
     "output_type": "stream",
     "text": [
      "install: missing destination file operand after 'docker'\n",
      "Try 'install --help' for more information.\n"
     ]
    },
    {
     "ename": "",
     "evalue": "1",
     "output_type": "error",
     "traceback": []
    }
   ],
   "source": [
    "install docker"
   ]
  },
  {
   "cell_type": "code",
   "execution_count": 2,
   "id": "6cd448fa-c79d-4e44-92c4-ba81bfa4cbcf",
   "metadata": {
    "tags": []
   },
   "outputs": [
    {
     "name": "stdout",
     "output_type": "stream",
     "text": [
      "Usage: install [OPTION]... [-T] SOURCE DEST\n",
      "  or:  install [OPTION]... SOURCE... DIRECTORY\n",
      "  or:  install [OPTION]... -t DIRECTORY SOURCE...\n",
      "  or:  install [OPTION]... -d DIRECTORY...\n",
      "\n",
      "This install program copies files (often just compiled) into destination\n",
      "locations you choose.  If you want to download and install a ready-to-use\n",
      "package on a GNU/Linux system, you should instead be using a package manager\n",
      "like yum(1) or apt-get(1).\n",
      "\n",
      "In the first three forms, copy SOURCE to DEST or multiple SOURCE(s) to\n",
      "the existing DIRECTORY, while setting permission modes and owner/group.\n",
      "In the 4th form, create all components of the given DIRECTORY(ies).\n",
      "\n",
      "Mandatory arguments to long options are mandatory for short options too.\n",
      "      --backup[=CONTROL]  make a backup of each existing destination file\n",
      "  -b                  like --backup but does not accept an argument\n",
      "  -c                  (ignored)\n",
      "  -C, --compare       compare content of source and destination files, and\n",
      "                        if no change to content, ownership, and permissions,\n",
      "                        do not modify the destination at all\n",
      "  -d, --directory     treat all arguments as directory names; create all\n",
      "                        components of the specified directories\n",
      "  -D                  create all leading components of DEST except the last,\n",
      "                        or all components of --target-directory,\n",
      "                        then copy SOURCE to DEST\n",
      "  -g, --group=GROUP   set group ownership, instead of process' current group\n",
      "  -m, --mode=MODE     set permission mode (as in chmod), instead of rwxr-xr-x\n",
      "  -o, --owner=OWNER   set ownership (super-user only)\n",
      "  -p, --preserve-timestamps   apply access/modification times of SOURCE files\n",
      "                        to corresponding destination files\n",
      "  -s, --strip         strip symbol tables\n",
      "      --strip-program=PROGRAM  program used to strip binaries\n",
      "  -S, --suffix=SUFFIX  override the usual backup suffix\n",
      "  -t, --target-directory=DIRECTORY  copy all SOURCE arguments into DIRECTORY\n",
      "  -T, --no-target-directory  treat DEST as a normal file\n",
      "  -v, --verbose       print the name of each directory as it is created\n",
      "      --preserve-context  preserve SELinux security context\n",
      "  -Z                      set SELinux security context of destination\n",
      "                            file and each created directory to default type\n",
      "      --context[=CTX]     like -Z, or if CTX is specified then set the\n",
      "                            SELinux or SMACK security context to CTX\n",
      "      --help        display this help and exit\n",
      "      --version     output version information and exit\n",
      "\n",
      "The backup suffix is '~', unless set with --suffix or SIMPLE_BACKUP_SUFFIX.\n",
      "The version control method may be selected via the --backup option or through\n",
      "the VERSION_CONTROL environment variable.  Here are the values:\n",
      "\n",
      "  none, off       never make backups (even if --backup is given)\n",
      "  numbered, t     make numbered backups\n",
      "  existing, nil   numbered if numbered backups exist, simple otherwise\n",
      "  simple, never   always make simple backups\n",
      "\n",
      "GNU coreutils online help: <https://www.gnu.org/software/coreutils/>\n",
      "Full documentation <https://www.gnu.org/software/coreutils/install>\n",
      "or available locally via: info '(coreutils) install invocation'\n"
     ]
    }
   ],
   "source": [
    "install --help\n"
   ]
  },
  {
   "cell_type": "code",
   "execution_count": 8,
   "id": "020d7668-ad59-4543-a282-146191d09841",
   "metadata": {
    "tags": []
   },
   "outputs": [
    {
     "name": "stdout",
     "output_type": "stream",
     "text": [
      "sh: 0: cannot open install.sh: No such file\n"
     ]
    },
    {
     "ename": "",
     "evalue": "2",
     "output_type": "error",
     "traceback": []
    }
   ],
   "source": [
    "sh install.sh"
   ]
  },
  {
   "cell_type": "code",
   "execution_count": 5,
   "id": "c47bb90d-f735-4389-a949-2ba712b36ce6",
   "metadata": {
    "tags": []
   },
   "outputs": [
    {
     "name": "stdout",
     "output_type": "stream",
     "text": [
      "/home/h3africa/orientation\n"
     ]
    }
   ],
   "source": [
    "pwd"
   ]
  },
  {
   "cell_type": "code",
   "execution_count": 6,
   "id": "ed722561-eb67-4eef-863b-9f2847383f2f",
   "metadata": {
    "tags": []
   },
   "outputs": [],
   "source": [
    "cd output"
   ]
  },
  {
   "cell_type": "code",
   "execution_count": null,
   "id": "3da6af8b-ab57-4bab-ba4a-004a2504356f",
   "metadata": {},
   "outputs": [],
   "source": []
  },
  {
   "cell_type": "code",
   "execution_count": 10,
   "id": "9946f069-6fdf-495b-b575-3726f31b4402",
   "metadata": {
    "kernel": "SoS",
    "tags": []
   },
   "outputs": [
    {
     "name": "stdout",
     "output_type": "stream",
     "text": [
      "bash: fg: %preview: no such job\n",
      "(base) \n"
     ]
    },
    {
     "ename": "",
     "evalue": "1",
     "output_type": "error",
     "traceback": []
    }
   ],
   "source": [
    "%preview output/phenotypes_BMI.fastGWA.manhattan.png"
   ]
  },
  {
   "cell_type": "code",
   "execution_count": 11,
   "id": "3cf9b844-4d55-4541-ab68-5836a9344257",
   "metadata": {
    "tags": []
   },
   "outputs": [
    {
     "name": "stdout",
     "output_type": "stream",
     "text": [
      "(pisces-rabbit) \n"
     ]
    },
    {
     "ename": "",
     "evalue": "1",
     "output_type": "error",
     "traceback": []
    }
   ],
   "source": [
    "micromamba activate pisces-rabbit"
   ]
  },
  {
   "cell_type": "code",
   "execution_count": null,
   "id": "ad88d98d-001d-4731-b291-19ca0fe7974a",
   "metadata": {},
   "outputs": [],
   "source": []
  }
 ],
 "metadata": {
  "kernelspec": {
   "display_name": "Bash",
   "language": "bash",
   "name": "bash"
  },
  "language_info": {
   "codemirror_mode": "shell",
   "file_extension": ".sh",
   "mimetype": "text/x-sh",
   "name": "bash"
  },
  "sos": {
   "kernels": [
    [
     "SoS",
     "sos",
     "",
     "",
     "sos"
    ]
   ],
   "version": "0.24.3"
  }
 },
 "nbformat": 4,
 "nbformat_minor": 5
}
