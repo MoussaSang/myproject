{
 "cells": [
  {
   "cell_type": "code",
   "execution_count": 5,
   "id": "d5e77523-5a34-48de-bd29-2b1e0182b648",
   "metadata": {
    "tags": []
   },
   "outputs": [],
   "source": [
    "rm(list=ls())\n",
    "library(susieR)\n",
    "data(N3finemapping)\n",
    "attach(N3finemapping)"
   ]
  },
  {
   "cell_type": "code",
   "execution_count": 6,
   "id": "2adf9783-e999-4873-b9ab-8bdf1def11a7",
   "metadata": {
    "tags": []
   },
   "outputs": [
    {
     "data": {
      "text/html": [
       "'N3finemapping'"
      ],
      "text/latex": [
       "'N3finemapping'"
      ],
      "text/markdown": [
       "'N3finemapping'"
      ],
      "text/plain": [
       "[1] \"N3finemapping\""
      ]
     },
     "metadata": {},
     "output_type": "display_data"
    }
   ],
   "source": [
    "ls()"
   ]
  },
  {
   "cell_type": "code",
   "execution_count": 7,
   "id": "8ac10757-a3f7-46d8-af9f-ab53838ae555",
   "metadata": {
    "tags": []
   },
   "outputs": [
    {
     "data": {
      "text/html": [
       "<style>\n",
       ".list-inline {list-style: none; margin:0; padding: 0}\n",
       ".list-inline>li {display: inline-block}\n",
       ".list-inline>li:not(:last-child)::after {content: \"\\00b7\"; padding: 0 .5ex}\n",
       "</style>\n",
       "<ol class=list-inline><li>'X'</li><li>'chrom'</li><li>'pos'</li><li>'true_coef'</li><li>'residual_variance'</li><li>'Y'</li><li>'allele_freq'</li><li>'V'</li></ol>\n"
      ],
      "text/latex": [
       "\\begin{enumerate*}\n",
       "\\item 'X'\n",
       "\\item 'chrom'\n",
       "\\item 'pos'\n",
       "\\item 'true\\_coef'\n",
       "\\item 'residual\\_variance'\n",
       "\\item 'Y'\n",
       "\\item 'allele\\_freq'\n",
       "\\item 'V'\n",
       "\\end{enumerate*}\n"
      ],
      "text/markdown": [
       "1. 'X'\n",
       "2. 'chrom'\n",
       "3. 'pos'\n",
       "4. 'true_coef'\n",
       "5. 'residual_variance'\n",
       "6. 'Y'\n",
       "7. 'allele_freq'\n",
       "8. 'V'\n",
       "\n",
       "\n"
      ],
      "text/plain": [
       "[1] \"X\"                 \"chrom\"             \"pos\"              \n",
       "[4] \"true_coef\"         \"residual_variance\" \"Y\"                \n",
       "[7] \"allele_freq\"       \"V\"                "
      ]
     },
     "metadata": {},
     "output_type": "display_data"
    }
   ],
   "source": [
    "names(N3finemapping)"
   ]
  },
  {
   "cell_type": "code",
   "execution_count": 8,
   "id": "a97de482-3f02-474f-bcd1-a63a4b36bcc6",
   "metadata": {
    "tags": []
   },
   "outputs": [
    {
     "data": {
      "text/html": [
       "<style>\n",
       ".list-inline {list-style: none; margin:0; padding: 0}\n",
       ".list-inline>li {display: inline-block}\n",
       ".list-inline>li:not(:last-child)::after {content: \"\\00b7\"; padding: 0 .5ex}\n",
       "</style>\n",
       "<ol class=list-inline><li>574</li><li>1001</li></ol>\n"
      ],
      "text/latex": [
       "\\begin{enumerate*}\n",
       "\\item 574\n",
       "\\item 1001\n",
       "\\end{enumerate*}\n"
      ],
      "text/markdown": [
       "1. 574\n",
       "2. 1001\n",
       "\n",
       "\n"
      ],
      "text/plain": [
       "[1]  574 1001"
      ]
     },
     "metadata": {},
     "output_type": "display_data"
    }
   ],
   "source": [
    "dim(X)"
   ]
  },
  {
   "cell_type": "code",
   "execution_count": 9,
   "id": "68a7201f-790c-4f11-9892-d212193dd0bd",
   "metadata": {
    "tags": []
   },
   "outputs": [
    {
     "data": {
      "text/html": [
       "<style>\n",
       ".list-inline {list-style: none; margin:0; padding: 0}\n",
       ".list-inline>li {display: inline-block}\n",
       ".list-inline>li:not(:last-child)::after {content: \"\\00b7\"; padding: 0 .5ex}\n",
       "</style>\n",
       "<ol class=list-inline><li>'X'</li><li>'chrom'</li><li>'pos'</li><li>'true_coef'</li><li>'residual_variance'</li><li>'Y'</li><li>'allele_freq'</li><li>'V'</li></ol>\n"
      ],
      "text/latex": [
       "\\begin{enumerate*}\n",
       "\\item 'X'\n",
       "\\item 'chrom'\n",
       "\\item 'pos'\n",
       "\\item 'true\\_coef'\n",
       "\\item 'residual\\_variance'\n",
       "\\item 'Y'\n",
       "\\item 'allele\\_freq'\n",
       "\\item 'V'\n",
       "\\end{enumerate*}\n"
      ],
      "text/markdown": [
       "1. 'X'\n",
       "2. 'chrom'\n",
       "3. 'pos'\n",
       "4. 'true_coef'\n",
       "5. 'residual_variance'\n",
       "6. 'Y'\n",
       "7. 'allele_freq'\n",
       "8. 'V'\n",
       "\n",
       "\n"
      ],
      "text/plain": [
       "[1] \"X\"                 \"chrom\"             \"pos\"              \n",
       "[4] \"true_coef\"         \"residual_variance\" \"Y\"                \n",
       "[7] \"allele_freq\"       \"V\"                "
      ]
     },
     "metadata": {},
     "output_type": "display_data"
    }
   ],
   "source": [
    "names(N3finemapping)"
   ]
  },
  {
   "cell_type": "code",
   "execution_count": 11,
   "id": "e213916a-22b2-427f-aa1a-7fdeadf603f5",
   "metadata": {
    "tags": []
   },
   "outputs": [
    {
     "data": {
      "text/html": [
       "<style>\n",
       ".list-inline {list-style: none; margin:0; padding: 0}\n",
       ".list-inline>li {display: inline-block}\n",
       ".list-inline>li:not(:last-child)::after {content: \"\\00b7\"; padding: 0 .5ex}\n",
       "</style>\n",
       "<ol class=list-inline><li>574</li><li>1001</li></ol>\n"
      ],
      "text/latex": [
       "\\begin{enumerate*}\n",
       "\\item 574\n",
       "\\item 1001\n",
       "\\end{enumerate*}\n"
      ],
      "text/markdown": [
       "1. 574\n",
       "2. 1001\n",
       "\n",
       "\n"
      ],
      "text/plain": [
       "[1]  574 1001"
      ]
     },
     "metadata": {},
     "output_type": "display_data"
    }
   ],
   "source": [
    "dim(X)"
   ]
  },
  {
   "cell_type": "code",
   "execution_count": 12,
   "id": "e9d6e330-6eae-4b6d-9d9c-f0371788c1f9",
   "metadata": {
    "tags": []
   },
   "outputs": [
    {
     "data": {
      "text/html": [
       "<style>\n",
       ".list-inline {list-style: none; margin:0; padding: 0}\n",
       ".list-inline>li {display: inline-block}\n",
       ".list-inline>li:not(:last-child)::after {content: \"\\00b7\"; padding: 0 .5ex}\n",
       "</style>\n",
       "<ol class=list-inline><li>574</li><li>2</li></ol>\n"
      ],
      "text/latex": [
       "\\begin{enumerate*}\n",
       "\\item 574\n",
       "\\item 2\n",
       "\\end{enumerate*}\n"
      ],
      "text/markdown": [
       "1. 574\n",
       "2. 2\n",
       "\n",
       "\n"
      ],
      "text/plain": [
       "[1] 574   2"
      ]
     },
     "metadata": {},
     "output_type": "display_data"
    }
   ],
   "source": [
    "dim(Y)"
   ]
  },
  {
   "cell_type": "code",
   "execution_count": 8,
   "id": "a1a002dc-c7f5-4621-9531-8fc7d3cf3dc7",
   "metadata": {
    "tags": []
   },
   "outputs": [],
   "source": [
    "y = Y[,1]\n",
    "b = true_coef[,1]"
   ]
  },
  {
   "cell_type": "code",
   "execution_count": 9,
   "id": "eaad1362-43d7-492c-9dc9-0d6cf0807f2f",
   "metadata": {
    "tags": []
   },
   "outputs": [
    {
     "data": {
      "text/html": [
       "<style>\n",
       ".list-inline {list-style: none; margin:0; padding: 0}\n",
       ".list-inline>li {display: inline-block}\n",
       ".list-inline>li:not(:last-child)::after {content: \"\\00b7\"; padding: 0 .5ex}\n",
       "</style>\n",
       "<ol class=list-inline><li>403</li><li>653</li><li>773</li></ol>\n"
      ],
      "text/latex": [
       "\\begin{enumerate*}\n",
       "\\item 403\n",
       "\\item 653\n",
       "\\item 773\n",
       "\\end{enumerate*}\n"
      ],
      "text/markdown": [
       "1. 403\n",
       "2. 653\n",
       "3. 773\n",
       "\n",
       "\n"
      ],
      "text/plain": [
       "[1] 403 653 773"
      ]
     },
     "metadata": {},
     "output_type": "display_data"
    }
   ],
   "source": [
    "which(b != 0)"
   ]
  },
  {
   "cell_type": "code",
   "execution_count": 10,
   "id": "c68ae60e-9907-469d-8412-0fd5084a995e",
   "metadata": {
    "tags": []
   },
   "outputs": [],
   "source": [
    "sumstats <- univariate_regression(X, y)"
   ]
  },
  {
   "cell_type": "code",
   "execution_count": 11,
   "id": "15eda967-573e-493e-b0b1-c89cdc4e0f7b",
   "metadata": {
    "tags": []
   },
   "outputs": [],
   "source": [
    "z_scores <- sumstats$betahat / sumstats$sebetahat\n",
    "log10p <- -log10(pchisq(z_scores^2,1,lower.tail=F))"
   ]
  },
  {
   "cell_type": "code",
   "execution_count": 12,
   "id": "3030e2b3-8d4e-4a5f-98c2-c63783676508",
   "metadata": {
    "tags": []
   },
   "outputs": [
    {
     "data": {
      "image/png": "[encoded data removed]",
      "text/plain": [
       "plot without title"
      ]
     },
     "metadata": {
      "image/png": {
       "height": 420,
       "width": 420
      }
     },
     "output_type": "display_data"
    }
   ],
   "source": [
    "susie_plot(z_scores,y=\"z\",b=b)"
   ]
  },
  {
   "cell_type": "code",
   "execution_count": 46,
   "id": "8ebb4541-e1cb-4ac1-95ce-81f8c1d7cb3c",
   "metadata": {
    "tags": []
   },
   "outputs": [],
   "source": [
    "log10p <- -log10(pchisq(z_scores^2,1,lower.tail=F))"
   ]
  },
  {
   "cell_type": "code",
   "execution_count": 15,
   "id": "6e50789a-6add-4c37-97cb-fb3d82eefbab",
   "metadata": {
    "tags": []
   },
   "outputs": [],
   "source": [
    "lliks = sapply(1:ncol(X), function(i) logLik(lm(y~X[,i])))"
   ]
  },
  {
   "cell_type": "code",
   "execution_count": 16,
   "id": "fa44fd4e-d22d-4cc6-9100-2a151b86e81d",
   "metadata": {
    "tags": []
   },
   "outputs": [],
   "source": [
    "lliks = lliks - max(lliks)\n",
    "probs = exp(lliks)/sum(exp(lliks))"
   ]
  },
  {
   "cell_type": "code",
   "execution_count": 17,
   "id": "62963f71-f275-411e-a4b6-bb77161f61fc",
   "metadata": {
    "tags": []
   },
   "outputs": [
    {
     "data": {
      "image/png": "[encoded data removed]",
      "text/plain": [
       "plot without title"
      ]
     },
     "metadata": {
      "image/png": {
       "height": 420,
       "width": 420
      }
     },
     "output_type": "display_data"
    }
   ],
   "source": [
    "susie_plot(probs, y=\"PIP\", b=b, ylab = \"Prob. true effect (assuming one effect variable)\")"
   ]
  },
  {
   "cell_type": "code",
   "execution_count": 27,
   "id": "ee467fc0-32d0-4379-9077-91aa8183ce5f",
   "metadata": {
    "tags": []
   },
   "outputs": [
    {
     "data": {
      "text/html": [
       "<style>\n",
       ".list-inline {list-style: none; margin:0; padding: 0}\n",
       ".list-inline>li {display: inline-block}\n",
       ".list-inline>li:not(:last-child)::after {content: \"\\00b7\"; padding: 0 .5ex}\n",
       "</style>\n",
       "<ol class=list-inline><li>773</li><li>777</li></ol>\n"
      ],
      "text/latex": [
       "\\begin{enumerate*}\n",
       "\\item 773\n",
       "\\item 777\n",
       "\\end{enumerate*}\n"
      ],
      "text/markdown": [
       "1. 773\n",
       "2. 777\n",
       "\n",
       "\n"
      ],
      "text/plain": [
       "[1] 773 777"
      ]
     },
     "metadata": {},
     "output_type": "display_data"
    }
   ],
   "source": [
    "which(susieR:::in_CS(t(probs), coverage = 0.95) != 0)"
   ]
  },
  {
   "cell_type": "code",
   "execution_count": 45,
   "id": "ded3217f-b444-4de9-b306-de97551a82fe",
   "metadata": {
    "tags": []
   },
   "outputs": [
    {
     "name": "stderr",
     "output_type": "stream",
     "text": [
      "also installing the dependencies ‘RcppGSL’, ‘RcppZiggurat’\n",
      "\n",
      "\n",
      "Updating HTML index of packages in '.Library'\n",
      "\n",
      "Making 'packages.html' ...\n",
      " done\n",
      "\n"
     ]
    }
   ],
   "source": [
    "install.packages(\"Rfast\")"
   ]
  },
  {
   "cell_type": "code",
   "execution_count": 48,
   "id": "8f797dfb-95f8-4554-b624-5472dfc89a77",
   "metadata": {
    "tags": []
   },
   "outputs": [],
   "source": [
    "fitted <- susie(X, y, L = 10)"
   ]
  },
  {
   "cell_type": "code",
   "execution_count": 32,
   "id": "a2c75ecf-71ee-42b4-8f44-4547d372408d",
   "metadata": {
    "tags": []
   },
   "outputs": [
    {
     "name": "stdout",
     "output_type": "stream",
     "text": [
      "$cs\n",
      "$cs$L2\n",
      "[1] 653\n",
      "\n",
      "$cs$L1\n",
      "[1] 773 777\n",
      "\n",
      "$cs$L3\n",
      " [1] 362 365 372 373 374 379 381 383 384 386 387 388 389 391 392 396 397 398 399\n",
      "[20] 400 401 403 404 405 407 408 415\n",
      "\n",
      "\n",
      "$purity\n",
      "   min.abs.corr mean.abs.corr median.abs.corr\n",
      "L2    1.0000000     1.0000000       1.0000000\n",
      "L1    0.9815726     0.9815726       0.9815726\n",
      "L3    0.8686309     0.9640176       0.9720711\n",
      "\n",
      "$cs_index\n",
      "[1] 2 1 3\n",
      "\n",
      "$coverage\n",
      "[1] 0.9998235 0.9988860 0.9539806\n",
      "\n",
      "$requested_coverage\n",
      "[1] 0.95\n",
      "\n"
     ]
    }
   ],
   "source": [
    "print(fitted$sets)"
   ]
  },
  {
   "cell_type": "code",
   "execution_count": 33,
   "id": "7d3e52fc-07e7-4f38-8b9c-97ea0a436b34",
   "metadata": {
    "tags": []
   },
   "outputs": [
    {
     "name": "stdout",
     "output_type": "stream",
     "text": [
      "$cs\n",
      "$cs$L2\n",
      "[1] 653\n",
      "\n",
      "$cs$L1\n",
      "[1] 773 777\n",
      "\n",
      "$cs$L3\n",
      " [1] 373 374 379 381 383 384 386 387 388 389 391 392 396 398 399 400 401 403 404\n",
      "[20] 405 407 408\n",
      "\n",
      "\n",
      "$purity\n",
      "   min.abs.corr mean.abs.corr median.abs.corr\n",
      "L2    1.0000000     1.0000000       1.0000000\n",
      "L1    0.9815726     0.9815726       0.9815726\n",
      "L3    0.9119572     0.9726283       0.9765888\n",
      "\n",
      "$cs_index\n",
      "[1] 2 1 3\n",
      "\n",
      "$coverage\n",
      "[1] 0.9998235 0.9988860 0.9119908\n",
      "\n",
      "$requested_coverage\n",
      "[1] 0.9\n",
      "\n"
     ]
    }
   ],
   "source": [
    "sets <- susie_get_cs(fitted, X = X, coverage = 0.9)\n",
    "print(sets)"
   ]
  },
  {
   "cell_type": "code",
   "execution_count": 34,
   "id": "6052aeb1-b2a4-4c23-aadd-e42ae7eb47c7",
   "metadata": {
    "tags": []
   },
   "outputs": [
    {
     "data": {
      "image/png": "[encoded data removed]",
      "text/plain": [
       "plot without title"
      ]
     },
     "metadata": {
      "image/png": {
       "height": 420,
       "width": 420
      }
     },
     "output_type": "display_data"
    }
   ],
   "source": [
    "susie_plot(fitted, y=\"PIP\", b=b, add_legend=T)"
   ]
  },
  {
   "cell_type": "code",
   "execution_count": 35,
   "id": "42ac9990-fd4e-496e-8c28-2d8ab5eee011",
   "metadata": {
    "tags": []
   },
   "outputs": [
    {
     "data": {
      "text/html": [
       "<table class=\"dataframe\">\n",
       "<caption>A matrix: 27 × 3 of type dbl</caption>\n",
       "<thead>\n",
       "\t<tr><th scope=col>position</th><th scope=col>-log10 pvalue</th><th scope=col>PIP</th></tr>\n",
       "</thead>\n",
       "<tbody>\n",
       "\t<tr><td>396</td><td>6.676732</td><td>0.056703668</td></tr>\n",
       "\t<tr><td>381</td><td>6.618518</td><td>0.100361522</td></tr>\n",
       "\t<tr><td>386</td><td>6.618518</td><td>0.100361522</td></tr>\n",
       "\t<tr><td>379</td><td>6.417587</td><td>0.054178766</td></tr>\n",
       "\t<tr><td>391</td><td>6.396640</td><td>0.055951500</td></tr>\n",
       "\t<tr><td>383</td><td>6.370810</td><td>0.052896562</td></tr>\n",
       "\t<tr><td>384</td><td>6.370810</td><td>0.052896562</td></tr>\n",
       "\t<tr><td>389</td><td>6.360493</td><td>0.042160946</td></tr>\n",
       "\t<tr><td>405</td><td>6.331181</td><td>0.045761845</td></tr>\n",
       "\t<tr><td>403</td><td>6.322861</td><td>0.031992514</td></tr>\n",
       "\t<tr><td>387</td><td>6.272121</td><td>0.041041025</td></tr>\n",
       "\t<tr><td>388</td><td>6.237010</td><td>0.039649655</td></tr>\n",
       "\t<tr><td>408</td><td>6.230055</td><td>0.041552057</td></tr>\n",
       "\t<tr><td>404</td><td>6.139356</td><td>0.032013322</td></tr>\n",
       "\t<tr><td>374</td><td>6.125189</td><td>0.030571405</td></tr>\n",
       "\t<tr><td>373</td><td>6.094780</td><td>0.023577055</td></tr>\n",
       "\t<tr><td>362</td><td>6.005750</td><td>0.012145734</td></tr>\n",
       "\t<tr><td>399</td><td>5.932096</td><td>0.026454348</td></tr>\n",
       "\t<tr><td>392</td><td>5.922454</td><td>0.019740960</td></tr>\n",
       "\t<tr><td>407</td><td>5.906902</td><td>0.014699383</td></tr>\n",
       "\t<tr><td>400</td><td>5.859007</td><td>0.021659686</td></tr>\n",
       "\t<tr><td>365</td><td>5.762214</td><td>0.006263428</td></tr>\n",
       "\t<tr><td>398</td><td>5.694203</td><td>0.012908017</td></tr>\n",
       "\t<tr><td>401</td><td>5.634175</td><td>0.014858775</td></tr>\n",
       "\t<tr><td>397</td><td>5.620728</td><td>0.008690977</td></tr>\n",
       "\t<tr><td>415</td><td>5.506796</td><td>0.009003217</td></tr>\n",
       "\t<tr><td>372</td><td>5.335809</td><td>0.005886536</td></tr>\n",
       "</tbody>\n",
       "</table>\n"
      ],
      "text/latex": [
       "A matrix: 27 × 3 of type dbl\n",
       "\\begin{tabular}{lll}\n",
       " position & -log10 pvalue & PIP\\\\\n",
       "\\hline\n",
       "\t 396 & 6.676732 & 0.056703668\\\\\n",
       "\t 381 & 6.618518 & 0.100361522\\\\\n",
       "\t 386 & 6.618518 & 0.100361522\\\\\n",
       "\t 379 & 6.417587 & 0.054178766\\\\\n",
       "\t 391 & 6.396640 & 0.055951500\\\\\n",
       "\t 383 & 6.370810 & 0.052896562\\\\\n",
       "\t 384 & 6.370810 & 0.052896562\\\\\n",
       "\t 389 & 6.360493 & 0.042160946\\\\\n",
       "\t 405 & 6.331181 & 0.045761845\\\\\n",
       "\t 403 & 6.322861 & 0.031992514\\\\\n",
       "\t 387 & 6.272121 & 0.041041025\\\\\n",
       "\t 388 & 6.237010 & 0.039649655\\\\\n",
       "\t 408 & 6.230055 & 0.041552057\\\\\n",
       "\t 404 & 6.139356 & 0.032013322\\\\\n",
       "\t 374 & 6.125189 & 0.030571405\\\\\n",
       "\t 373 & 6.094780 & 0.023577055\\\\\n",
       "\t 362 & 6.005750 & 0.012145734\\\\\n",
       "\t 399 & 5.932096 & 0.026454348\\\\\n",
       "\t 392 & 5.922454 & 0.019740960\\\\\n",
       "\t 407 & 5.906902 & 0.014699383\\\\\n",
       "\t 400 & 5.859007 & 0.021659686\\\\\n",
       "\t 365 & 5.762214 & 0.006263428\\\\\n",
       "\t 398 & 5.694203 & 0.012908017\\\\\n",
       "\t 401 & 5.634175 & 0.014858775\\\\\n",
       "\t 397 & 5.620728 & 0.008690977\\\\\n",
       "\t 415 & 5.506796 & 0.009003217\\\\\n",
       "\t 372 & 5.335809 & 0.005886536\\\\\n",
       "\\end{tabular}\n"
      ],
      "text/markdown": [
       "\n",
       "A matrix: 27 × 3 of type dbl\n",
       "\n",
       "| position | -log10 pvalue | PIP |\n",
       "|---|---|---|\n",
       "| 396 | 6.676732 | 0.056703668 |\n",
       "| 381 | 6.618518 | 0.100361522 |\n",
       "| 386 | 6.618518 | 0.100361522 |\n",
       "| 379 | 6.417587 | 0.054178766 |\n",
       "| 391 | 6.396640 | 0.055951500 |\n",
       "| 383 | 6.370810 | 0.052896562 |\n",
       "| 384 | 6.370810 | 0.052896562 |\n",
       "| 389 | 6.360493 | 0.042160946 |\n",
       "| 405 | 6.331181 | 0.045761845 |\n",
       "| 403 | 6.322861 | 0.031992514 |\n",
       "| 387 | 6.272121 | 0.041041025 |\n",
       "| 388 | 6.237010 | 0.039649655 |\n",
       "| 408 | 6.230055 | 0.041552057 |\n",
       "| 404 | 6.139356 | 0.032013322 |\n",
       "| 374 | 6.125189 | 0.030571405 |\n",
       "| 373 | 6.094780 | 0.023577055 |\n",
       "| 362 | 6.005750 | 0.012145734 |\n",
       "| 399 | 5.932096 | 0.026454348 |\n",
       "| 392 | 5.922454 | 0.019740960 |\n",
       "| 407 | 5.906902 | 0.014699383 |\n",
       "| 400 | 5.859007 | 0.021659686 |\n",
       "| 365 | 5.762214 | 0.006263428 |\n",
       "| 398 | 5.694203 | 0.012908017 |\n",
       "| 401 | 5.634175 | 0.014858775 |\n",
       "| 397 | 5.620728 | 0.008690977 |\n",
       "| 415 | 5.506796 | 0.009003217 |\n",
       "| 372 | 5.335809 | 0.005886536 |\n",
       "\n"
      ],
      "text/plain": [
       "      position -log10 pvalue PIP        \n",
       " [1,] 396      6.676732      0.056703668\n",
       " [2,] 381      6.618518      0.100361522\n",
       " [3,] 386      6.618518      0.100361522\n",
       " [4,] 379      6.417587      0.054178766\n",
       " [5,] 391      6.396640      0.055951500\n",
       " [6,] 383      6.370810      0.052896562\n",
       " [7,] 384      6.370810      0.052896562\n",
       " [8,] 389      6.360493      0.042160946\n",
       " [9,] 405      6.331181      0.045761845\n",
       "[10,] 403      6.322861      0.031992514\n",
       "[11,] 387      6.272121      0.041041025\n",
       "[12,] 388      6.237010      0.039649655\n",
       "[13,] 408      6.230055      0.041552057\n",
       "[14,] 404      6.139356      0.032013322\n",
       "[15,] 374      6.125189      0.030571405\n",
       "[16,] 373      6.094780      0.023577055\n",
       "[17,] 362      6.005750      0.012145734\n",
       "[18,] 399      5.932096      0.026454348\n",
       "[19,] 392      5.922454      0.019740960\n",
       "[20,] 407      5.906902      0.014699383\n",
       "[21,] 400      5.859007      0.021659686\n",
       "[22,] 365      5.762214      0.006263428\n",
       "[23,] 398      5.694203      0.012908017\n",
       "[24,] 401      5.634175      0.014858775\n",
       "[25,] 397      5.620728      0.008690977\n",
       "[26,] 415      5.506796      0.009003217\n",
       "[27,] 372      5.335809      0.005886536"
      ]
     },
     "metadata": {},
     "output_type": "display_data"
    }
   ],
   "source": [
    "i  <- fitted$sets$cs$L3\n",
    "z3 <- cbind(i,log10p[i],fitted$pip[i])\n",
    "colnames(z3) <- c('position', '-log10 pvalue', 'PIP')\n",
    "z3[order(z3[,2], decreasing = TRUE),]"
   ]
  },
  {
   "cell_type": "code",
   "execution_count": 49,
   "id": "704640c2-dea2-46e6-a887-52fc26689e24",
   "metadata": {
    "tags": []
   },
   "outputs": [
    {
     "data": {
      "image/png": "[encoded data removed]",
      "text/plain": [
       "plot without title"
      ]
     },
     "metadata": {
      "image/png": {
       "height": 420,
       "width": 420
      }
     },
     "output_type": "display_data"
    }
   ],
   "source": [
    "fitted2 = susie(X, y, L = 10, estimate_prior_variance = FALSE, scaled_prior_variance = 0.2)\n",
    "susie_plot(fitted2, y='PIP', b=b, add_legend=T)"
   ]
  },
  {
   "cell_type": "code",
   "execution_count": 50,
   "id": "6f3234b7-7fae-4e49-ba75-42225894095f",
   "metadata": {
    "tags": []
   },
   "outputs": [],
   "source": [
    "R <- cor(X)"
   ]
  },
  {
   "cell_type": "code",
   "execution_count": 57,
   "id": "bcde4056-17ff-4cdc-812b-748e3c001ef1",
   "metadata": {
    "tags": []
   },
   "outputs": [
    {
     "name": "stdout",
     "output_type": "stream",
     "text": [
      "[1] 1001\n"
     ]
    }
   ],
   "source": [
    "n=1001\n",
    "print(n)"
   ]
  },
  {
   "cell_type": "code",
   "execution_count": 58,
   "id": "7541ab5f-6e98-4acc-ae50-9e4e52bbfc02",
   "metadata": {
    "tags": []
   },
   "outputs": [
    {
     "ename": "ERROR",
     "evalue": "Error in if (nrow(R) != p) stop(paste0(\"The dimension of R (\", nrow(R), : argument is of length zero\n",
     "output_type": "error",
     "traceback": [
      "Error in if (nrow(R) != p) stop(paste0(\"The dimension of R (\", nrow(R), : argument is of length zero\nTraceback:\n",
      "1. susie_rss(z_scores, n, R, L = 10)"
     ]
    }
   ],
   "source": [
    "fitted_rss <- susie_rss(z_scores, R, L = 10)"
   ]
  },
  {
   "cell_type": "code",
   "execution_count": 44,
   "id": "ec58c678-b674-4d50-8015-b05d3b54093f",
   "metadata": {
    "tags": []
   },
   "outputs": [
    {
     "data": {
      "image/png": "[encoded data removed]",
      "text/plain": [
       "plot without title"
      ]
     },
     "metadata": {
      "image/png": {
       "height": 420,
       "width": 420
      }
     },
     "output_type": "display_data"
    }
   ],
   "source": [
    "plot(fitted$pip, fitted_rss$pip, ylim=c(0,1))"
   ]
  },
  {
   "cell_type": "code",
   "execution_count": 59,
   "id": "8e0ce003-e5cc-4be7-99fe-54aed1fa1856",
   "metadata": {
    "tags": []
   },
   "outputs": [],
   "source": [
    "set.seed(1234)\n",
    "tmp = matrix(rnorm(500*1001), 500, 1001)\n",
    "eigenR = eigen(R)\n",
    "eigenR$values[eigenR$values < 1e-10] = 0\n",
    "X_ref = tmp %*% (eigenR$values * t(eigenR$vectors))\n",
    "R_ref = cor(X_ref)"
   ]
  },
  {
   "cell_type": "code",
   "execution_count": 60,
   "id": "27c208c9-6043-4116-a294-33cb86d04414",
   "metadata": {
    "tags": []
   },
   "outputs": [
    {
     "name": "stderr",
     "output_type": "stream",
     "text": [
      "\u001b[1m\u001b[4m\u001b[31mWARNING:\u001b[39m\u001b[24m\u001b[22m Providing the sample size (n), or even a rough estimate of n, is highly recommended. Without n, the implicit assumption is n is large (Inf) and the effect sizes are small (close to zero).\n",
      "\n"
     ]
    },
    {
     "data": {
      "image/png": "[encoded data removed]",
      "text/plain": [
       "plot without title"
      ]
     },
     "metadata": {
      "image/png": {
       "height": 420,
       "width": 420
      }
     },
     "output_type": "display_data"
    }
   ],
   "source": [
    "fitted_rss_ref <- susie_rss(z_scores, R_ref, L = 10)\n",
    "susie_plot(fitted_rss_ref, y=\"PIP\", b=b)"
   ]
  },
  {
   "cell_type": "code",
   "execution_count": 61,
   "id": "e8533cda-214b-4e51-905e-e6b5acb408e6",
   "metadata": {
    "tags": []
   },
   "outputs": [
    {
     "name": "stderr",
     "output_type": "stream",
     "text": [
      "\u001b[1m\u001b[4m\u001b[31mWARNING:\u001b[39m\u001b[24m\u001b[22m As of version 0.11.0, use of non-zero z_ld_weight is no longer recommended\n",
      "\n",
      "\u001b[1m\u001b[4m\u001b[31mWARNING:\u001b[39m\u001b[24m\u001b[22m Providing the sample size (n), or even a rough estimate of n, is highly recommended. Without n, the implicit assumption is n is large (Inf) and the effect sizes are small (close to zero).\n",
      "\n"
     ]
    },
    {
     "data": {
      "image/png": "[encoded data removed]",
      "text/plain": [
       "plot without title"
      ]
     },
     "metadata": {
      "image/png": {
       "height": 420,
       "width": 420
      }
     },
     "output_type": "display_data"
    }
   ],
   "source": [
    "n_ref = 500\n",
    "fitted_rss_ref_corrected <- susie_rss(z_scores, R_ref, z_ld_weight = 1/n_ref, L = 10)\n",
    "susie_plot(fitted_rss_ref_corrected, y=\"PIP\", b=b)"
   ]
  },
  {
   "cell_type": "code",
   "execution_count": 62,
   "id": "dedc5afc-3eaf-485a-b745-330d80fdb4f2",
   "metadata": {
    "tags": []
   },
   "outputs": [],
   "source": [
    "data(N2finemapping)"
   ]
  },
  {
   "cell_type": "code",
   "execution_count": 63,
   "id": "5c29dd68-b805-4806-9342-b2f9ed0c6709",
   "metadata": {
    "tags": []
   },
   "outputs": [
    {
     "data": {
      "text/plain": [
       "R version 4.3.1 (2023-06-16)\n",
       "Platform: x86_64-conda-linux-gnu (64-bit)\n",
       "Running under: Ubuntu 23.04\n",
       "\n",
       "Matrix products: default\n",
       "BLAS/LAPACK: /home/h3africa/micromamba/envs/pisces-rabbit/lib/libopenblasp-r0.3.24.so;  LAPACK version 3.11.0\n",
       "\n",
       "locale:\n",
       " [1] LC_CTYPE=en_US.UTF-8       LC_NUMERIC=C              \n",
       " [3] LC_TIME=en_US.UTF-8        LC_COLLATE=en_US.UTF-8    \n",
       " [5] LC_MONETARY=en_US.UTF-8    LC_MESSAGES=en_US.UTF-8   \n",
       " [7] LC_PAPER=en_US.UTF-8       LC_NAME=C                 \n",
       " [9] LC_ADDRESS=C               LC_TELEPHONE=C            \n",
       "[11] LC_MEASUREMENT=en_US.UTF-8 LC_IDENTIFICATION=C       \n",
       "\n",
       "time zone: Africa/Bamako\n",
       "tzcode source: system (glibc)\n",
       "\n",
       "attached base packages:\n",
       "[1] stats     graphics  grDevices utils     datasets  methods   base     \n",
       "\n",
       "other attached packages:\n",
       "[1] susieR_0.12.35\n",
       "\n",
       "loaded via a namespace (and not attached):\n",
       " [1] mixsqp_0.3-48      crayon_1.5.2       vctrs_0.6.3        cli_3.6.1         \n",
       " [5] rlang_1.1.1        RcppZiggurat_0.1.6 jsonlite_1.8.7     glue_1.6.2        \n",
       " [9] colorspace_2.1-0   plyr_1.8.8         htmltools_0.5.6    IRdisplay_1.1     \n",
       "[13] IRkernel_1.3.2     scales_1.2.1       fansi_1.0.4        grid_4.3.1        \n",
       "[17] tibble_3.2.1       evaluate_0.21      munsell_0.5.0      fastmap_1.1.1     \n",
       "[21] base64enc_0.1-3    lifecycle_1.0.3    compiler_4.3.1     irlba_2.3.5.1     \n",
       "[25] Rcpp_1.0.11        pkgconfig_2.0.3    Rfast_2.0.8        pbdZMQ_0.3-10     \n",
       "[29] lattice_0.21-8     digest_0.6.33      R6_2.5.1           repr_1.1.6        \n",
       "[33] utf8_1.2.3         parallel_4.3.1     pillar_1.9.0       magrittr_2.0.3    \n",
       "[37] Matrix_1.6-1.1     uuid_1.1-1         tools_4.3.1        gtable_0.3.4      \n",
       "[41] reshape_0.8.9      matrixStats_1.0.0  ggplot2_3.4.3     "
      ]
     },
     "metadata": {},
     "output_type": "display_data"
    }
   ],
   "source": [
    "sessionInfo()"
   ]
  },
  {
   "cell_type": "code",
   "execution_count": null,
   "id": "fefd0005-d09f-4e1f-9d2c-a9704f9e81e5",
   "metadata": {},
   "outputs": [],
   "source": []
  }
 ],
 "metadata": {
  "kernelspec": {
   "display_name": "R",
   "language": "R",
   "name": "ir"
  },
  "language_info": {
   "codemirror_mode": "r",
   "file_extension": ".r",
   "mimetype": "text/x-r-source",
   "name": "R",
   "pygments_lexer": "r",
   "version": "4.3.1"
  }
 },
 "nbformat": 4,
 "nbformat_minor": 5
}
