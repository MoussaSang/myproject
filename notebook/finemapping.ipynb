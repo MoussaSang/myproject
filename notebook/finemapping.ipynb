{
 "cells": [
  {
   "cell_type": "markdown",
   "id": "65768c27",
   "metadata": {},
   "source": [
    "# Overview\n",
    "\n",
    "This fine-mapping tutorial was developed using simulated data shipped with [`susieR`](https://github.com/stephenslab/susieR) package.\n",
    "The simulated data contains simulated phenotype matrix $Y$ in $N \\approx 600$ individuals. \n",
    "The goal is to identify from the genotype matrix $X_{N\\times P}$ ($P=1000$) the genetic variables that directly cause changes in the phenotypic values."
   ]
  },
  {
   "cell_type": "markdown",
   "id": "dc5736fe",
   "metadata": {},
   "source": [
    "The simulated data-set is [available\n",
    "here](https://github.com/stephenslab/susieR/blob/master/data/N3finemapping.RData),\n",
    "as part of the `susieR` package. In this tutorial we will first explore the data with conventional univariate association analysis,\n",
    "then perform preliminary fine-mapping analysis under simplified \n",
    "assumptions to illustrate the idea of statistical fine-mapping, and finally use the R package `susieR` to perform formal Bayesian fine-mapping analysis.\n",
    "We will also discuss fine-mapping using association summary statistics."
   ]
  },
  {
   "cell_type": "markdown",
   "id": "041c15b9",
   "metadata": {},
   "source": [
    "# Explore the association data-set\n",
    "\n",
    "Please execute the following code cell to load the simulated data,"
   ]
  },
  {
   "cell_type": "code",
   "execution_count": 1,
   "id": "e56163f3",
   "metadata": {
    "tags": []
   },
   "outputs": [],
   "source": [
    "rm(list=ls())\n",
    "library(susieR)\n",
    "data(N3finemapping)\n",
    "attach(N3finemapping)"
   ]
  },
  {
   "cell_type": "code",
   "execution_count": 2,
   "id": "3266dfa3",
   "metadata": {
    "tags": []
   },
   "outputs": [
    {
     "data": {
      "text/html": [
       "'N3finemapping'"
      ],
      "text/latex": [
       "'N3finemapping'"
      ],
      "text/markdown": [
       "'N3finemapping'"
      ],
      "text/plain": [
       "[1] \"N3finemapping\""
      ]
     },
     "metadata": {},
     "output_type": "display_data"
    }
   ],
   "source": [
    "ls()"
   ]
  },
  {
   "cell_type": "markdown",
   "id": "a3ffa9cd",
   "metadata": {},
   "source": [
    "The loaded dataset, `N3finemapping`, contains regression data $X$ and $Y$, \n",
    "along with some other relevant attributes in the context of genetic studies. It also\n",
    "contains the \"true\" regression coefficients the data is simulated from."
   ]
  },
  {
   "cell_type": "code",
   "execution_count": 3,
   "id": "99304a97",
   "metadata": {
    "tags": []
   },
   "outputs": [
    {
     "data": {
      "text/html": [
       "<style>\n",
       ".list-inline {list-style: none; margin:0; padding: 0}\n",
       ".list-inline>li {display: inline-block}\n",
       ".list-inline>li:not(:last-child)::after {content: \"\\00b7\"; padding: 0 .5ex}\n",
       "</style>\n",
       "<ol class=list-inline><li>'X'</li><li>'chrom'</li><li>'pos'</li><li>'true_coef'</li><li>'residual_variance'</li><li>'Y'</li><li>'allele_freq'</li><li>'V'</li></ol>\n"
      ],
      "text/latex": [
       "\\begin{enumerate*}\n",
       "\\item 'X'\n",
       "\\item 'chrom'\n",
       "\\item 'pos'\n",
       "\\item 'true\\_coef'\n",
       "\\item 'residual\\_variance'\n",
       "\\item 'Y'\n",
       "\\item 'allele\\_freq'\n",
       "\\item 'V'\n",
       "\\end{enumerate*}\n"
      ],
      "text/markdown": [
       "1. 'X'\n",
       "2. 'chrom'\n",
       "3. 'pos'\n",
       "4. 'true_coef'\n",
       "5. 'residual_variance'\n",
       "6. 'Y'\n",
       "7. 'allele_freq'\n",
       "8. 'V'\n",
       "\n",
       "\n"
      ],
      "text/plain": [
       "[1] \"X\"                 \"chrom\"             \"pos\"              \n",
       "[4] \"true_coef\"         \"residual_variance\" \"Y\"                \n",
       "[7] \"allele_freq\"       \"V\"                "
      ]
     },
     "metadata": {},
     "output_type": "display_data"
    }
   ],
   "source": [
    "names(N3finemapping)"
   ]
  },
  {
   "cell_type": "markdown",
   "id": "84fd2873",
   "metadata": {},
   "source": [
    "The genotype matrix has 574 individuals and 1001 genetic variants,"
   ]
  },
  {
   "cell_type": "code",
   "execution_count": 4,
   "id": "f3064ee0",
   "metadata": {
    "tags": []
   },
   "outputs": [
    {
     "data": {
      "text/html": [
       "<style>\n",
       ".list-inline {list-style: none; margin:0; padding: 0}\n",
       ".list-inline>li {display: inline-block}\n",
       ".list-inline>li:not(:last-child)::after {content: \"\\00b7\"; padding: 0 .5ex}\n",
       "</style>\n",
       "<ol class=list-inline><li>574</li><li>1001</li></ol>\n"
      ],
      "text/latex": [
       "\\begin{enumerate*}\n",
       "\\item 574\n",
       "\\item 1001\n",
       "\\end{enumerate*}\n"
      ],
      "text/markdown": [
       "1. 574\n",
       "2. 1001\n",
       "\n",
       "\n"
      ],
      "text/plain": [
       "[1]  574 1001"
      ]
     },
     "metadata": {},
     "output_type": "display_data"
    }
   ],
   "source": [
    "dim(X)"
   ]
  },
  {
   "cell_type": "markdown",
   "id": "afb8c204",
   "metadata": {},
   "source": [
    "The phenotype matrix contains values for the 574 individuals for 2 traits,"
   ]
  },
  {
   "cell_type": "code",
   "execution_count": 5,
   "id": "c7c88512",
   "metadata": {
    "tags": []
   },
   "outputs": [
    {
     "data": {
      "text/html": [
       "<style>\n",
       ".list-inline {list-style: none; margin:0; padding: 0}\n",
       ".list-inline>li {display: inline-block}\n",
       ".list-inline>li:not(:last-child)::after {content: \"\\00b7\"; padding: 0 .5ex}\n",
       "</style>\n",
       "<ol class=list-inline><li>574</li><li>2</li></ol>\n"
      ],
      "text/latex": [
       "\\begin{enumerate*}\n",
       "\\item 574\n",
       "\\item 2\n",
       "\\end{enumerate*}\n"
      ],
      "text/markdown": [
       "1. 574\n",
       "2. 2\n",
       "\n",
       "\n"
      ],
      "text/plain": [
       "[1] 574   2"
      ]
     },
     "metadata": {},
     "output_type": "display_data"
    }
   ],
   "source": [
    "dim(Y)"
   ]
  },
  {
   "cell_type": "markdown",
   "id": "f184243a",
   "metadata": {},
   "source": [
    "We focus on the first trait, let"
   ]
  },
  {
   "cell_type": "code",
   "execution_count": 26,
   "id": "3c795ffa",
   "metadata": {
    "tags": []
   },
   "outputs": [],
   "source": [
    "y = Y[,1]\n",
    "b = true_coef[,1]"
   ]
  },
  {
   "cell_type": "markdown",
   "id": "d30f5caa",
   "metadata": {},
   "source": [
    "There are 3 \"causal\" variants for this trait,"
   ]
  },
  {
   "cell_type": "code",
   "execution_count": 25,
   "id": "7053af7b",
   "metadata": {
    "tags": []
   },
   "outputs": [
    {
     "data": {
      "text/html": [
       "<style>\n",
       ".list-inline {list-style: none; margin:0; padding: 0}\n",
       ".list-inline>li {display: inline-block}\n",
       ".list-inline>li:not(:last-child)::after {content: \"\\00b7\"; padding: 0 .5ex}\n",
       "</style>\n",
       "<ol class=list-inline><li>403</li><li>653</li><li>773</li></ol>\n"
      ],
      "text/latex": [
       "\\begin{enumerate*}\n",
       "\\item 403\n",
       "\\item 653\n",
       "\\item 773\n",
       "\\end{enumerate*}\n"
      ],
      "text/markdown": [
       "1. 403\n",
       "2. 653\n",
       "3. 773\n",
       "\n",
       "\n"
      ],
      "text/plain": [
       "[1] 403 653 773"
      ]
     },
     "metadata": {},
     "output_type": "display_data"
    }
   ],
   "source": [
    "which(b != 0)"
   ]
  },
  {
   "cell_type": "markdown",
   "id": "a1dc8ac8",
   "metadata": {},
   "source": [
    "**Question: Please use R function `plot` to visualize the true effects vector. What are the effect sizes for these 3 \"causal\" variants?**\n",
    "\n",
    "Note: in this tutorial we will avoid the phrase \"causal\", and use \"effect variable\" to refer to the variants having true non-zero effects on the phenotype."
   ]
  },
  {
   "cell_type": "markdown",
   "id": "2d60e9d8",
   "metadata": {},
   "source": [
    "# Association testing via simple linear regression\n",
    "\n",
    "`univariate_regression` function in `susieR` can be used to perform association testing \n",
    "by fitting univariate simple regression for each variable separately.\n",
    "The results are $\\hat{\\beta}$ for effect size estimates, and their standard errors $SE(\\hat{\\beta})$."
   ]
  },
  {
   "cell_type": "code",
   "execution_count": 11,
   "id": "d8ab25f9",
   "metadata": {
    "tags": []
   },
   "outputs": [],
   "source": [
    "sumstats <- univariate_regression(X, y)"
   ]
  },
  {
   "cell_type": "markdown",
   "id": "b532ca8c",
   "metadata": {},
   "source": [
    "**Question: Please use R function plot to compare the true effects variable `b` with the estimated effect sizes `sumstats$betahat`. Are they consistent, and why?**"
   ]
  },
  {
   "cell_type": "markdown",
   "id": "bf881365",
   "metadata": {},
   "source": [
    "z-scores can be derived from these quantities; $-log_{10}$ p-values can then becomputed from z-scores, "
   ]
  },
  {
   "cell_type": "code",
   "execution_count": 12,
   "id": "e8a4c6b5",
   "metadata": {
    "tags": []
   },
   "outputs": [],
   "source": [
    "z_scores <- sumstats$betahat / sumstats$sebetahat\n",
    "log10p <- -log10(pchisq(z_scores^2,1,lower.tail=F))"
   ]
  },
  {
   "cell_type": "markdown",
   "id": "a248ebcc",
   "metadata": {},
   "source": [
    "**Question: How many variables have p-values smaller than $10^{-8}$? Would you report all of them as significant association findings, and if not, which variable(s) will you likely report, based on univariate association analysis?**"
   ]
  },
  {
   "cell_type": "markdown",
   "id": "c170e7a8",
   "metadata": {},
   "source": [
    "`susieR` package provides a plot function to generate Manhattan plot for the association test results. Notice that the true effect variables are labelled in red (true effects provided to `susie_plot` via setting `b=` parameter),"
   ]
  },
  {
   "cell_type": "code",
   "execution_count": 13,
   "id": "fce9f01f",
   "metadata": {
    "tags": []
   },
   "outputs": [
    {
     "data": {
      "image/png": "[encoded data removed]",
      "text/plain": [
       "plot without title"
      ]
     },
     "metadata": {
      "image/png": {
       "height": 420,
       "width": 420
      }
     },
     "output_type": "display_data"
    }
   ],
   "source": [
    "susie_plot(z_scores,y=\"z\",b=b)"
   ]
  },
  {
   "cell_type": "markdown",
   "id": "579cc343",
   "metadata": {},
   "source": [
    "As shown on this plot, the \"lead\" SNP (the one with smallest p-value) is indeed one of the true effect variables. However, the 2nd most significant SNP is not one of the other two effect variables, and there are many other SNPs having p-values smaller than $10^{-8}$, a widely accepted significant level threshold for genetic association studies."
   ]
  },
  {
   "cell_type": "markdown",
   "id": "43cb21a3",
   "metadata": {},
   "source": [
    "# \"One causal variant\" assumption for fine-mapping"
   ]
  },
  {
   "cell_type": "markdown",
   "id": "7a742366",
   "metadata": {},
   "source": [
    "Under the assumption that there is only one true effect in the region of interest, fine-mapping does not have to use linkage disequilibrium (LD) information between variables. It can be performed by simply calculating the likelihood of the association model for each variable separately, then computing the probability for a variable being the true effect as the ratio of its likelihood over the sum of likelihoods over all variables. We use linear regression `lm` in R to compute the log-likelihood,"
   ]
  },
  {
   "cell_type": "code",
   "execution_count": 11,
   "id": "64271e5c",
   "metadata": {},
   "outputs": [],
   "source": [
    "lliks = sapply(1:ncol(X), function(i) logLik(lm(y~X[,i])))"
   ]
  },
  {
   "cell_type": "markdown",
   "id": "267dedad",
   "metadata": {},
   "source": [
    "Then compute the probability for each variable being the true effect variable: "
   ]
  },
  {
   "cell_type": "code",
   "execution_count": 12,
   "id": "84b5c5b0",
   "metadata": {},
   "outputs": [],
   "source": [
    "lliks = lliks - max(lliks) # To avoid taking exp on large numbers in the next line, thus improving numerical stability \n",
    "probs = exp(lliks)/sum(exp(lliks))"
   ]
  },
  {
   "cell_type": "markdown",
   "id": "59b938e9",
   "metadata": {},
   "source": [
    "We use `susie_plot` function to plot these probabilities computed, and color label the true effect variables:"
   ]
  },
  {
   "cell_type": "code",
   "execution_count": 13,
   "id": "8edd4c86",
   "metadata": {},
   "outputs": [
    {
     "data": {
      "image/png": "[encoded data removed]",
      "text/plain": [
       "plot without title"
      ]
     },
     "metadata": {
      "image/png": {
       "height": 420,
       "width": 420
      },
      "text/plain": {
       "height": 420,
       "width": 420
      }
     },
     "output_type": "display_data"
    }
   ],
   "source": [
    "susie_plot(probs, y=\"PIP\", b=b, ylab = \"Prob. true effect (assuming one effect variable)\")"
   ]
  },
  {
   "cell_type": "markdown",
   "id": "06399f92",
   "metadata": {},
   "source": [
    "As expected, under the \"one causal variant\" assumption, only the lead SNP is identified with over 80% probability of having a non-zero effect. The other two true effect variables in red are not identified."
   ]
  },
  {
   "cell_type": "markdown",
   "id": "d61d6cf3",
   "metadata": {
    "jupyter": {
     "source_hidden": true
    },
    "tags": []
   },
   "source": [
    "## 95% credible set for single effect\n",
    "\n",
    "95% credible set (CS) is defined as a set of variables with 95% probability of containing a true effect. By visually examine the plot above, we can see that the lead SNP has over 80% probability being the true effect, and another SNP near it has almost 20% probability of being the true effect. The 95% credible set should thus contain both of them in order for the coverage to exceed 95%. Indeed, we can formally verify this using an internal function `in_CS` to assess if a variable is in a single effect CS. We report the indices of these variables,"
   ]
  },
  {
   "cell_type": "code",
   "execution_count": 14,
   "id": "66916987",
   "metadata": {},
   "outputs": [
    {
     "data": {
      "text/html": [
       "<ol class=list-inline>\n",
       "\t<li>773</li>\n",
       "\t<li>777</li>\n",
       "</ol>\n"
      ],
      "text/latex": [
       "\\begin{enumerate*}\n",
       "\\item 773\n",
       "\\item 777\n",
       "\\end{enumerate*}\n"
      ],
      "text/markdown": [
       "1. 773\n",
       "2. 777\n",
       "\n",
       "\n"
      ],
      "text/plain": [
       "[1] 773 777"
      ]
     },
     "metadata": {},
     "output_type": "display_data"
    }
   ],
   "source": [
    "which(susieR:::in_CS(t(probs), coverage = 0.95) != 0)"
   ]
  },
  {
   "cell_type": "markdown",
   "id": "f69d9dbe",
   "metadata": {},
   "source": [
    "These variables indeed correspond to the two non-zero probability variables on the plot above.\n",
    "\n",
    "**Question: Show the p-values and probabilities of non-zero effect for these two variables. Compute the correlation between these two variables, and commment on result for the zero effect variable `777`**."
   ]
  },
  {
   "cell_type": "markdown",
   "id": "e6e77bca",
   "metadata": {},
   "source": [
    "# Fine-mapping with individual level data using Sum of Single Effects model\n",
    "\n",
    "When multiple true effects are expected, formal statistical fine-mapping via Bayesian Variable Selection\n",
    "should be performed. We fit a Sum of Single Effects (SuSiE) model implemented in `susieR` package, \n",
    "assuming at most 10 causal variables (although SuSiE is robust to the choice of `L`)."
   ]
  },
  {
   "cell_type": "code",
   "execution_count": 3,
   "id": "8bc0b370",
   "metadata": {
    "tags": []
   },
   "outputs": [
    {
     "ename": "ERROR",
     "evalue": "Error in susie(X, y, L = 10): could not find function \"susie\"\n",
     "output_type": "error",
     "traceback": [
      "Error in susie(X, y, L = 10): could not find function \"susie\"\nTraceback:\n"
     ]
    }
   ],
   "source": [
    "fitted <- susie(X, y, L = 10)"
   ]
  },
  {
   "cell_type": "markdown",
   "id": "c2a10fa4",
   "metadata": {},
   "source": [
    "## 95% credible sets for each single effect\n",
    "\n",
    "By default, `susie` function computes 95% CS each containing one effect variable,"
   ]
  },
  {
   "cell_type": "code",
   "execution_count": 16,
   "id": "bcbe7283",
   "metadata": {},
   "outputs": [
    {
     "name": "stdout",
     "output_type": "stream",
     "text": [
      "$cs\n",
      "$cs$L2\n",
      "[1] 653\n",
      "\n",
      "$cs$L1\n",
      "[1] 773 777\n",
      "\n",
      "$cs$L3\n",
      " [1] 362 365 372 373 374 379 381 383 384 386 387 388 389 391 392 396 397 398 399\n",
      "[20] 400 401 403 404 405 407 408 415\n",
      "\n",
      "\n",
      "$purity\n",
      "   min.abs.corr mean.abs.corr median.abs.corr\n",
      "L2    1.0000000     1.0000000       1.0000000\n",
      "L1    0.9815726     0.9907863       0.9907863\n",
      "L3    0.8686309     0.9653503       0.9739578\n",
      "\n",
      "$cs_index\n",
      "[1] 2 1 3\n",
      "\n",
      "$coverage\n",
      "[1] 0.9998236 0.9988858 0.9539811\n",
      "\n",
      "$requested_coverage\n",
      "[1] 0.95\n",
      "\n"
     ]
    }
   ],
   "source": [
    "print(fitted$sets)"
   ]
  },
  {
   "cell_type": "markdown",
   "id": "2ab6d08f",
   "metadata": {},
   "source": [
    "The 3 true signals have been captured by the 3 CS reported here. The\n",
    "3rd CS contains many variables, including the true causal variable\n",
    "`403`. The minimum absolute correlation is 0.86.\n",
    "\n",
    "If we request 90% coverage for credible sets, we still\n",
    "capture the 3 signals, but the minimum absolute correlation of the 3rd CS is now 0.91 \n",
    "and size of the CS is also a bit smaller."
   ]
  },
  {
   "cell_type": "code",
   "execution_count": 17,
   "id": "6d3e2680",
   "metadata": {},
   "outputs": [
    {
     "name": "stdout",
     "output_type": "stream",
     "text": [
      "$cs\n",
      "$cs$L2\n",
      "[1] 653\n",
      "\n",
      "$cs$L1\n",
      "[1] 773 777\n",
      "\n",
      "$cs$L3\n",
      " [1] 373 374 379 381 383 384 386 387 388 389 391 392 396 398 399 400 401 403 404\n",
      "[20] 405 407 408\n",
      "\n",
      "\n",
      "$purity\n",
      "   min.abs.corr mean.abs.corr median.abs.corr\n",
      "L2    1.0000000     1.0000000       1.0000000\n",
      "L1    0.9815726     0.9907863       0.9907863\n",
      "L3    0.9119572     0.9738724       0.9768163\n",
      "\n",
      "$cs_index\n",
      "[1] 2 1 3\n",
      "\n",
      "$coverage\n",
      "[1] 0.9998236 0.9988858 0.9119917\n",
      "\n",
      "$requested_coverage\n",
      "[1] 0.9\n",
      "\n"
     ]
    }
   ],
   "source": [
    "sets <- susie_get_cs(fitted, X = X, coverage = 0.9)\n",
    "print(sets)"
   ]
  },
  {
   "cell_type": "markdown",
   "id": "3ba236a1",
   "metadata": {},
   "source": [
    "**Question: why is the size for the 3rd CS smaller and minimum absolute correlation higher, when requesting 90% coverage compared to previous result of requesting 95%?**"
   ]
  },
  {
   "cell_type": "markdown",
   "id": "2c0b22d2",
   "metadata": {},
   "source": [
    "## Posterior inclusion probabilities\n",
    "\n",
    "Here we summarize the fine-mapping results by posterior inclusion\n",
    "probability (PIP):"
   ]
  },
  {
   "cell_type": "code",
   "execution_count": 18,
   "id": "a1e37ab9",
   "metadata": {},
   "outputs": [
    {
     "data": {
      "image/png": "[encoded data removed]",
      "text/plain": [
       "plot without title"
      ]
     },
     "metadata": {
      "image/png": {
       "height": 420,
       "width": 420
      },
      "text/plain": {
       "height": 420,
       "width": 420
      }
     },
     "output_type": "display_data"
    }
   ],
   "source": [
    "susie_plot(fitted, y=\"PIP\", b=b, add_legend=T)"
   ]
  },
  {
   "cell_type": "markdown",
   "id": "43aa9c9b",
   "metadata": {},
   "source": [
    "The true effect variables are colored red, and the three 95% CS identified are\n",
    "circled in different colors. "
   ]
  },
  {
   "cell_type": "markdown",
   "id": "bc24b8ba",
   "metadata": {},
   "source": [
    "**Question: Report the PIP for variable 403. Why is the PIP relatively low for this true effect variable?** You can use the code below to compare $-log_{10}$ p-value and PIP for the CS containing variable 403:"
   ]
  },
  {
   "cell_type": "code",
   "execution_count": 19,
   "id": "f97a83cf",
   "metadata": {},
   "outputs": [
    {
     "data": {
      "text/html": [
       "<table>\n",
       "<caption>A matrix: 27 × 3 of type dbl</caption>\n",
       "<thead>\n",
       "\t<tr><th scope=col>position</th><th scope=col>-log10 pvalue</th><th scope=col>PIP</th></tr>\n",
       "</thead>\n",
       "<tbody>\n",
       "\t<tr><td>396</td><td>6.676732</td><td>0.056704331</td></tr>\n",
       "\t<tr><td>381</td><td>6.618518</td><td>0.100360243</td></tr>\n",
       "\t<tr><td>386</td><td>6.618518</td><td>0.100360243</td></tr>\n",
       "\t<tr><td>379</td><td>6.417587</td><td>0.054179507</td></tr>\n",
       "\t<tr><td>391</td><td>6.396640</td><td>0.055952118</td></tr>\n",
       "\t<tr><td>383</td><td>6.370810</td><td>0.052896918</td></tr>\n",
       "\t<tr><td>384</td><td>6.370810</td><td>0.052896918</td></tr>\n",
       "\t<tr><td>389</td><td>6.360493</td><td>0.042161265</td></tr>\n",
       "\t<tr><td>405</td><td>6.331181</td><td>0.045761975</td></tr>\n",
       "\t<tr><td>403</td><td>6.322861</td><td>0.031992848</td></tr>\n",
       "\t<tr><td>387</td><td>6.272121</td><td>0.041041505</td></tr>\n",
       "\t<tr><td>388</td><td>6.237010</td><td>0.039650079</td></tr>\n",
       "\t<tr><td>408</td><td>6.230055</td><td>0.041551961</td></tr>\n",
       "\t<tr><td>404</td><td>6.139356</td><td>0.032013339</td></tr>\n",
       "\t<tr><td>374</td><td>6.125189</td><td>0.030571484</td></tr>\n",
       "\t<tr><td>373</td><td>6.094780</td><td>0.023577221</td></tr>\n",
       "\t<tr><td>362</td><td>6.005750</td><td>0.012145481</td></tr>\n",
       "\t<tr><td>399</td><td>5.932096</td><td>0.026454056</td></tr>\n",
       "\t<tr><td>392</td><td>5.922454</td><td>0.019741011</td></tr>\n",
       "\t<tr><td>407</td><td>5.906902</td><td>0.014699313</td></tr>\n",
       "\t<tr><td>400</td><td>5.859007</td><td>0.021659443</td></tr>\n",
       "\t<tr><td>365</td><td>5.762214</td><td>0.006263425</td></tr>\n",
       "\t<tr><td>398</td><td>5.694203</td><td>0.012907848</td></tr>\n",
       "\t<tr><td>401</td><td>5.634175</td><td>0.014858460</td></tr>\n",
       "\t<tr><td>397</td><td>5.620728</td><td>0.008690915</td></tr>\n",
       "\t<tr><td>415</td><td>5.506796</td><td>0.009003129</td></tr>\n",
       "\t<tr><td>372</td><td>5.335809</td><td>0.005886458</td></tr>\n",
       "</tbody>\n",
       "</table>\n"
      ],
      "text/latex": [
       "A matrix: 27 × 3 of type dbl\n",
       "\\begin{tabular}{lll}\n",
       " position & -log10 pvalue & PIP\\\\\n",
       "\\hline\n",
       "\t 396 & 6.676732 & 0.056704331\\\\\n",
       "\t 381 & 6.618518 & 0.100360243\\\\\n",
       "\t 386 & 6.618518 & 0.100360243\\\\\n",
       "\t 379 & 6.417587 & 0.054179507\\\\\n",
       "\t 391 & 6.396640 & 0.055952118\\\\\n",
       "\t 383 & 6.370810 & 0.052896918\\\\\n",
       "\t 384 & 6.370810 & 0.052896918\\\\\n",
       "\t 389 & 6.360493 & 0.042161265\\\\\n",
       "\t 405 & 6.331181 & 0.045761975\\\\\n",
       "\t 403 & 6.322861 & 0.031992848\\\\\n",
       "\t 387 & 6.272121 & 0.041041505\\\\\n",
       "\t 388 & 6.237010 & 0.039650079\\\\\n",
       "\t 408 & 6.230055 & 0.041551961\\\\\n",
       "\t 404 & 6.139356 & 0.032013339\\\\\n",
       "\t 374 & 6.125189 & 0.030571484\\\\\n",
       "\t 373 & 6.094780 & 0.023577221\\\\\n",
       "\t 362 & 6.005750 & 0.012145481\\\\\n",
       "\t 399 & 5.932096 & 0.026454056\\\\\n",
       "\t 392 & 5.922454 & 0.019741011\\\\\n",
       "\t 407 & 5.906902 & 0.014699313\\\\\n",
       "\t 400 & 5.859007 & 0.021659443\\\\\n",
       "\t 365 & 5.762214 & 0.006263425\\\\\n",
       "\t 398 & 5.694203 & 0.012907848\\\\\n",
       "\t 401 & 5.634175 & 0.014858460\\\\\n",
       "\t 397 & 5.620728 & 0.008690915\\\\\n",
       "\t 415 & 5.506796 & 0.009003129\\\\\n",
       "\t 372 & 5.335809 & 0.005886458\\\\\n",
       "\\end{tabular}\n"
      ],
      "text/markdown": [
       "\n",
       "A matrix: 27 × 3 of type dbl\n",
       "\n",
       "| position | -log10 pvalue | PIP |\n",
       "|---|---|---|\n",
       "| 396 | 6.676732 | 0.056704331 |\n",
       "| 381 | 6.618518 | 0.100360243 |\n",
       "| 386 | 6.618518 | 0.100360243 |\n",
       "| 379 | 6.417587 | 0.054179507 |\n",
       "| 391 | 6.396640 | 0.055952118 |\n",
       "| 383 | 6.370810 | 0.052896918 |\n",
       "| 384 | 6.370810 | 0.052896918 |\n",
       "| 389 | 6.360493 | 0.042161265 |\n",
       "| 405 | 6.331181 | 0.045761975 |\n",
       "| 403 | 6.322861 | 0.031992848 |\n",
       "| 387 | 6.272121 | 0.041041505 |\n",
       "| 388 | 6.237010 | 0.039650079 |\n",
       "| 408 | 6.230055 | 0.041551961 |\n",
       "| 404 | 6.139356 | 0.032013339 |\n",
       "| 374 | 6.125189 | 0.030571484 |\n",
       "| 373 | 6.094780 | 0.023577221 |\n",
       "| 362 | 6.005750 | 0.012145481 |\n",
       "| 399 | 5.932096 | 0.026454056 |\n",
       "| 392 | 5.922454 | 0.019741011 |\n",
       "| 407 | 5.906902 | 0.014699313 |\n",
       "| 400 | 5.859007 | 0.021659443 |\n",
       "| 365 | 5.762214 | 0.006263425 |\n",
       "| 398 | 5.694203 | 0.012907848 |\n",
       "| 401 | 5.634175 | 0.014858460 |\n",
       "| 397 | 5.620728 | 0.008690915 |\n",
       "| 415 | 5.506796 | 0.009003129 |\n",
       "| 372 | 5.335809 | 0.005886458 |\n",
       "\n"
      ],
      "text/plain": [
       "      position -log10 pvalue PIP        \n",
       " [1,] 396      6.676732      0.056704331\n",
       " [2,] 381      6.618518      0.100360243\n",
       " [3,] 386      6.618518      0.100360243\n",
       " [4,] 379      6.417587      0.054179507\n",
       " [5,] 391      6.396640      0.055952118\n",
       " [6,] 383      6.370810      0.052896918\n",
       " [7,] 384      6.370810      0.052896918\n",
       " [8,] 389      6.360493      0.042161265\n",
       " [9,] 405      6.331181      0.045761975\n",
       "[10,] 403      6.322861      0.031992848\n",
       "[11,] 387      6.272121      0.041041505\n",
       "[12,] 388      6.237010      0.039650079\n",
       "[13,] 408      6.230055      0.041551961\n",
       "[14,] 404      6.139356      0.032013339\n",
       "[15,] 374      6.125189      0.030571484\n",
       "[16,] 373      6.094780      0.023577221\n",
       "[17,] 362      6.005750      0.012145481\n",
       "[18,] 399      5.932096      0.026454056\n",
       "[19,] 392      5.922454      0.019741011\n",
       "[20,] 407      5.906902      0.014699313\n",
       "[21,] 400      5.859007      0.021659443\n",
       "[22,] 365      5.762214      0.006263425\n",
       "[23,] 398      5.694203      0.012907848\n",
       "[24,] 401      5.634175      0.014858460\n",
       "[25,] 397      5.620728      0.008690915\n",
       "[26,] 415      5.506796      0.009003129\n",
       "[27,] 372      5.335809      0.005886458"
      ]
     },
     "metadata": {},
     "output_type": "display_data"
    }
   ],
   "source": [
    "i  <- fitted$sets$cs$L3\n",
    "z3 <- cbind(i,log10p[i],fitted$pip[i])\n",
    "colnames(z3) <- c('position', '-log10 pvalue', 'PIP')\n",
    "z3[order(z3[,2], decreasing = TRUE),]"
   ]
  },
  {
   "cell_type": "markdown",
   "id": "4392c956",
   "metadata": {},
   "source": [
    "**Question: Please rerun the `susie` analysis setting `L=1` to detect a maximum of only one effect across the region. How does the result compare to the previous section of \"one causal effect\" fine-mapping using likelihoods from univariate analysis?**"
   ]
  },
  {
   "cell_type": "markdown",
   "id": "eb8b4412",
   "metadata": {},
   "source": [
    "## Choice of prior effect size\n",
    "\n",
    "In SuSiE, the prior effect size is parameterized by the percentage of variance explained by a variable, $h_j^2$. \n",
    "By default, SuSiE estimates $h_j^2$ and uses it as the prior (an empirical Bayes approach). \n",
    "Here we demonstrate fixing the prior effect size to 0.2, i.e., we believe a non-zero effect variable can explain 20% variation in quantitative trait values:"
   ]
  },
  {
   "cell_type": "code",
   "execution_count": 20,
   "id": "3565c544",
   "metadata": {},
   "outputs": [
    {
     "data": {
      "image/png": "[encoded data removed]",
      "text/plain": [
       "plot without title"
      ]
     },
     "metadata": {
      "image/png": {
       "height": 420,
       "width": 420
      },
      "text/plain": {
       "height": 420,
       "width": 420
      }
     },
     "output_type": "display_data"
    }
   ],
   "source": [
    "fitted2 = susie(X, y, L = 10, estimate_prior_variance = FALSE, scaled_prior_variance = 0.2)\n",
    "susie_plot(fitted2, y='PIP', b=b, add_legend=T)"
   ]
  },
  {
   "cell_type": "markdown",
   "id": "b0e59017",
   "metadata": {},
   "source": [
    "The result is very similar to when prior effects are estimated. "
   ]
  },
  {
   "cell_type": "markdown",
   "id": "027ec05d",
   "metadata": {},
   "source": [
    "**Question: Please change `scaled_prior_variance` to different numbers between 0 and 1, and examine the results. What happens if you set it to 0.001, and why?**"
   ]
  },
  {
   "cell_type": "markdown",
   "id": "2004c396",
   "metadata": {},
   "source": [
    "# Fine-mapping with summary statistics via `susie_rss`"
   ]
  },
  {
   "cell_type": "markdown",
   "id": "928691c4",
   "metadata": {},
   "source": [
    "Summary statistics of genetic association studies typically contain effect size ($\\hat{\\beta}$ coefficient from regression), p-value and minor allele frequencies. \n",
    "These information can be used to perform fine-mapping with given an additional input of correlation matrix between variables.\n",
    "The correlation matrix in genetics is typically referred to as LD matrix (LD for linkage disequilibrium). \n",
    "One may use external reference panels to estimate it when this matrix cannot be obtained from samples directly. There is a potential problem using LD from reference panel, and we demonstrated it in the next section.\n",
    "Caution that LD matrix here has to be correlation matrix $r$, not $r^2$ or $abs(r)$."
   ]
  },
  {
   "cell_type": "markdown",
   "id": "12aad91d",
   "metadata": {},
   "source": [
    "We have previously computed z-scores for this data-set. The correlation matrix can be computed directly from $X$ matrix, "
   ]
  },
  {
   "cell_type": "code",
   "execution_count": 21,
   "id": "fab67a14",
   "metadata": {},
   "outputs": [],
   "source": [
    "R <- cor(X)"
   ]
  },
  {
   "cell_type": "markdown",
   "id": "690193bc",
   "metadata": {},
   "source": [
    "SuSiE regression with summary statistics is implemented as `susie_rss` function, "
   ]
  },
  {
   "cell_type": "code",
   "execution_count": 22,
   "id": "c24ab6d3",
   "metadata": {},
   "outputs": [],
   "source": [
    "fitted_rss <- susie_rss(z_scores, R, L = 10)"
   ]
  },
  {
   "cell_type": "markdown",
   "id": "06f61567",
   "metadata": {},
   "source": [
    "We compare the PIP obtained with previous analysis using individual level data,"
   ]
  },
  {
   "cell_type": "code",
   "execution_count": 23,
   "id": "a591260a",
   "metadata": {},
   "outputs": [
    {
     "data": {
      "image/png": "[encoded data removed]",
      "text/plain": [
       "plot without title"
      ]
     },
     "metadata": {
      "image/png": {
       "height": 420,
       "width": 420
      },
      "text/plain": {
       "height": 420,
       "width": 420
      }
     },
     "output_type": "display_data"
    }
   ],
   "source": [
    "plot(fitted$pip, fitted_rss$pip, ylim=c(0,1))"
   ]
  },
  {
   "cell_type": "markdown",
   "id": "4b8509c9",
   "metadata": {},
   "source": [
    "The results very much agree. This is expected when the summary statistics are indeed derived from the individual level data."
   ]
  },
  {
   "cell_type": "markdown",
   "id": "e04e8d58",
   "metadata": {},
   "source": [
    "## Use LD from external reference data"
   ]
  },
  {
   "cell_type": "markdown",
   "id": "ef4387be",
   "metadata": {},
   "source": [
    "When original genotype information is not available, \n",
    "one may use reference panel to estimate LD matrix. \n",
    "False discoveries may occur if the LD pattern from the reference panel does not agree well with the original sample. \n",
    "\n",
    "To illustrate, we randomly generated 500 samples from $N(0,R)$ and treated them as reference panel genotype matrix `X_ref`."
   ]
  },
  {
   "cell_type": "code",
   "execution_count": 24,
   "id": "42d697fb",
   "metadata": {},
   "outputs": [],
   "source": [
    "set.seed(1234)\n",
    "tmp = matrix(rnorm(500*1001), 500, 1001)\n",
    "eigenR = eigen(R)\n",
    "eigenR$values[eigenR$values < 1e-10] = 0\n",
    "X_ref = tmp %*% (eigenR$values * t(eigenR$vectors))\n",
    "R_ref = cor(X_ref)"
   ]
  },
  {
   "cell_type": "markdown",
   "id": "98a1e245",
   "metadata": {},
   "source": [
    "Using `susie_rss` function with LD from reference panel,"
   ]
  },
  {
   "cell_type": "code",
   "execution_count": 25,
   "id": "7dda320c",
   "metadata": {},
   "outputs": [
    {
     "data": {
      "image/png": "[encoded data removed]",
      "text/plain": [
       "plot without title"
      ]
     },
     "metadata": {
      "image/png": {
       "height": 420,
       "width": 420
      },
      "text/plain": {
       "height": 420,
       "width": 420
      }
     },
     "output_type": "display_data"
    }
   ],
   "source": [
    "fitted_rss_ref <- susie_rss(z_scores, R_ref, L = 10)\n",
    "susie_plot(fitted_rss_ref, y=\"PIP\", b=b)"
   ]
  },
  {
   "cell_type": "markdown",
   "id": "5a89cd1d",
   "metadata": {},
   "source": [
    "**Question: Please compare and comment on the CS reported using reference LD panel versus using the correct LD computed from genotype data. Are there any false discoveries?**"
   ]
  },
  {
   "cell_type": "markdown",
   "id": "1f269910",
   "metadata": {},
   "source": [
    "We recommend the following modification to the LD matrix when reference panel ($R_{ref}$) are used,\n",
    "$$\n",
    "\\tilde{R} = \\text{cov2cor}((1-w)R_{ref}+ w zz^\\intercal)),\n",
    "$$\n",
    "where z is the original summary statistics. We suggest using $w = 1/n_{ref}$, $n_{ref}$ is the sample size from the reference panel. The modified LD matrix becomes\n",
    "$$\n",
    "\\tilde{R} = \\text{cov2cor}(\\frac{n_{ref}-1}{n_{ref}}R_{ref}+ \\frac{1}{n_{ref}} zz^\\intercal)) = \\text{cov2cor}(\\frac{1}{n_{ref}}(X_{ref}^\\intercal X_{ref}+ zz^\\intercal)),\n",
    "$$\n",
    "where `X_ref` is column-standardized. This modification is implemented in `susie_rss` with parameter `z_ld_weight`:"
   ]
  },
  {
   "cell_type": "code",
   "execution_count": 26,
   "id": "3178d263",
   "metadata": {},
   "outputs": [
    {
     "data": {
      "image/png": "[encoded data removed]",
      "text/plain": [
       "plot without title"
      ]
     },
     "metadata": {
      "image/png": {
       "height": 420,
       "width": 420
      },
      "text/plain": {
       "height": 420,
       "width": 420
      }
     },
     "output_type": "display_data"
    }
   ],
   "source": [
    "n_ref = 500\n",
    "fitted_rss_ref_corrected <- susie_rss(z_scores, R_ref, z_ld_weight = 1/n_ref, L = 10)\n",
    "susie_plot(fitted_rss_ref_corrected, y=\"PIP\", b=b)"
   ]
  },
  {
   "cell_type": "markdown",
   "id": "4c87af45",
   "metadata": {},
   "source": [
    "**Question: Please compare and comment on the results using adjusted reference LD panel. Is the result improved?**"
   ]
  },
  {
   "cell_type": "markdown",
   "id": "6b37cb7d",
   "metadata": {},
   "source": [
    "# Exercise: fine-mapping analysis on a different data-set\n",
    "\n",
    "Please load and analyze another data-set provided in `susieR` package:"
   ]
  },
  {
   "cell_type": "code",
   "execution_count": 27,
   "id": "477554cd",
   "metadata": {},
   "outputs": [],
   "source": [
    "data(N2finemapping)"
   ]
  },
  {
   "cell_type": "markdown",
   "id": "a2a06444",
   "metadata": {},
   "source": [
    "Please use the same R code for `N3finemapping` data to analyze this new data-set, similarly focusing on the first column of the phenotype matrix as the phenotype of interest. \n",
    "This data-set contains two true effect variables. However, as you are soon to find out in univariate linear regression analysis, **the lead SNP via univariate analysis is neither of the two effect variables**."
   ]
  },
  {
   "cell_type": "markdown",
   "id": "edbc3fb9",
   "metadata": {},
   "source": [
    "**Question: Perform fine-mapping under \"one causal variant\" assumption. Does it capture any true effect? Does fine-mapping with SuSiE capture all true effects?**"
   ]
  },
  {
   "cell_type": "code",
   "execution_count": 28,
   "id": "492df911",
   "metadata": {},
   "outputs": [
    {
     "data": {
      "text/plain": [
       "R version 3.6.2 (2019-12-12)\n",
       "Platform: x86_64-pc-linux-gnu (64-bit)\n",
       "Running under: Ubuntu 18.04.2 LTS\n",
       "\n",
       "Matrix products: default\n",
       "BLAS:   /usr/lib/x86_64-linux-gnu/atlas/libblas.so.3.10.3\n",
       "LAPACK: /usr/lib/x86_64-linux-gnu/atlas/liblapack.so.3.10.3\n",
       "\n",
       "locale:\n",
       " [1] LC_CTYPE=en_US.UTF-8       LC_NUMERIC=C              \n",
       " [3] LC_TIME=en_US.UTF-8        LC_COLLATE=en_US.UTF-8    \n",
       " [5] LC_MONETARY=en_US.UTF-8    LC_MESSAGES=en_US.UTF-8   \n",
       " [7] LC_PAPER=en_US.UTF-8       LC_NAME=C                 \n",
       " [9] LC_ADDRESS=C               LC_TELEPHONE=C            \n",
       "[11] LC_MEASUREMENT=en_US.UTF-8 LC_IDENTIFICATION=C       \n",
       "\n",
       "attached base packages:\n",
       "[1] stats     graphics  grDevices utils     datasets  methods   base     \n",
       "\n",
       "other attached packages:\n",
       "[1] susieR_0.10.0\n",
       "\n",
       "loaded via a namespace (and not attached):\n",
       " [1] Rcpp_1.0.6       magrittr_2.0.1   tidyselect_0.2.5 munsell_0.5.0   \n",
       " [5] uuid_0.1-2       colorspace_2.0-0 lattice_0.20-38  R6_2.5.0        \n",
       " [9] rlang_0.4.10     plyr_1.8.6       dplyr_0.8.3      tools_3.6.2     \n",
       "[13] grid_3.6.2       gtable_0.3.0     htmltools_0.4.0  ellipsis_0.3.1  \n",
       "[17] assertthat_0.2.1 digest_0.6.27    tibble_3.0.5     lifecycle_0.2.0 \n",
       "[21] crayon_1.3.4     Matrix_1.2-18    IRdisplay_0.7.0  purrr_0.3.3     \n",
       "[25] ggplot2_3.3.3    repr_1.0.2       vctrs_0.3.6      base64enc_0.1-3 \n",
       "[29] IRkernel_1.1     glue_1.4.2       evaluate_0.14    pbdZMQ_0.3-3    \n",
       "[33] compiler_3.6.2   pillar_1.4.7     scales_1.1.1     reshape_0.8.8   \n",
       "[37] jsonlite_1.7.2   pkgconfig_2.0.3 "
      ]
     },
     "metadata": {},
     "output_type": "display_data"
    }
   ],
   "source": [
    "sessionInfo()"
   ]
  }
 ],
 "metadata": {
  "authors": [
   {
    "name": "Contact: Gao Wang (wang.gao@columbia.edu)"
   }
  ],
  "kernelspec": {
   "display_name": "R",
   "language": "R",
   "name": "ir"
  },
  "language_info": {
   "codemirror_mode": "r",
   "file_extension": ".r",
   "mimetype": "text/x-r-source",
   "name": "R",
   "pygments_lexer": "r",
   "version": "4.3.1"
  },
  "title": "Statistical fine-mapping in genetics association studies"
 },
 "nbformat": 4,
 "nbformat_minor": 5
}
